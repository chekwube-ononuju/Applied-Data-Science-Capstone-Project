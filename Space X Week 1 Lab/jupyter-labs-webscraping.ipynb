{
 "cells": [
  {
   "cell_type": "markdown",
   "metadata": {},
   "source": [
    "<p style=\"text-align:center\">\n",
    "    <a href=\"https://skills.network\" target=\"_blank\">\n",
    "    <img src=\"https://cf-courses-data.s3.us.cloud-object-storage.appdomain.cloud/assets/logos/SN_web_lightmode.png\" width=\"200\" alt=\"Skills Network Logo\">\n",
    "    </a>\n",
    "</p>\n"
   ]
  },
  {
   "cell_type": "markdown",
   "metadata": {},
   "source": [
    "# **Space X  Falcon 9 First Stage Landing Prediction**\n"
   ]
  },
  {
   "cell_type": "markdown",
   "metadata": {},
   "source": [
    "## Web scraping Falcon 9 and Falcon Heavy Launches Records from Wikipedia\n"
   ]
  },
  {
   "cell_type": "markdown",
   "metadata": {},
   "source": [
    "Estimated time needed: **40** minutes\n"
   ]
  },
  {
   "cell_type": "markdown",
   "metadata": {},
   "source": [
    "In this lab, you will be performing web scraping to collect Falcon 9 historical launch records from a Wikipedia page titled `List of Falcon 9 and Falcon Heavy launches`\n",
    "\n",
    "https://en.wikipedia.org/wiki/List_of_Falcon_9_and_Falcon_Heavy_launches\n"
   ]
  },
  {
   "cell_type": "markdown",
   "metadata": {},
   "source": [
    "![](https://cf-courses-data.s3.us.cloud-object-storage.appdomain.cloud/IBM-DS0321EN-SkillsNetwork/labs/module_1_L2/images/Falcon9_rocket_family.svg)\n"
   ]
  },
  {
   "cell_type": "markdown",
   "metadata": {},
   "source": [
    "Falcon 9 first stage will land successfully\n"
   ]
  },
  {
   "cell_type": "markdown",
   "metadata": {},
   "source": [
    "![](https://cf-courses-data.s3.us.cloud-object-storage.appdomain.cloud/IBMDeveloperSkillsNetwork-DS0701EN-SkillsNetwork/api/Images/landing_1.gif)\n"
   ]
  },
  {
   "cell_type": "markdown",
   "metadata": {},
   "source": [
    "Several examples of an unsuccessful landing are shown here:\n"
   ]
  },
  {
   "cell_type": "markdown",
   "metadata": {},
   "source": [
    "![](https://cf-courses-data.s3.us.cloud-object-storage.appdomain.cloud/IBMDeveloperSkillsNetwork-DS0701EN-SkillsNetwork/api/Images/crash.gif)\n"
   ]
  },
  {
   "cell_type": "markdown",
   "metadata": {},
   "source": [
    "More specifically, the launch records are stored in a HTML table shown below:\n"
   ]
  },
  {
   "cell_type": "markdown",
   "metadata": {},
   "source": [
    "![](https://cf-courses-data.s3.us.cloud-object-storage.appdomain.cloud/IBM-DS0321EN-SkillsNetwork/labs/module_1_L2/images/falcon9-launches-wiki.png)\n"
   ]
  },
  {
   "cell_type": "markdown",
   "metadata": {},
   "source": [
    "  ## Objectives\n",
    "Web scrap Falcon 9 launch records with `BeautifulSoup`: \n",
    "- Extract a Falcon 9 launch records HTML table from Wikipedia\n",
    "- Parse the table and convert it into a Pandas data frame\n"
   ]
  },
  {
   "cell_type": "markdown",
   "metadata": {},
   "source": [
    "First let's import required packages for this lab\n"
   ]
  },
  {
   "cell_type": "code",
   "execution_count": 1,
   "metadata": {
    "tags": []
   },
   "outputs": [
    {
     "name": "stdout",
     "output_type": "stream",
     "text": [
      "Requirement already satisfied: beautifulsoup4 in /home/jupyterlab/conda/envs/python/lib/python3.7/site-packages (4.11.1)\n",
      "Requirement already satisfied: soupsieve>1.2 in /home/jupyterlab/conda/envs/python/lib/python3.7/site-packages (from beautifulsoup4) (2.3.2.post1)\n",
      "Requirement already satisfied: requests in /home/jupyterlab/conda/envs/python/lib/python3.7/site-packages (2.29.0)\n",
      "Requirement already satisfied: charset-normalizer<4,>=2 in /home/jupyterlab/conda/envs/python/lib/python3.7/site-packages (from requests) (3.1.0)\n",
      "Requirement already satisfied: idna<4,>=2.5 in /home/jupyterlab/conda/envs/python/lib/python3.7/site-packages (from requests) (3.4)\n",
      "Requirement already satisfied: urllib3<1.27,>=1.21.1 in /home/jupyterlab/conda/envs/python/lib/python3.7/site-packages (from requests) (1.26.15)\n",
      "Requirement already satisfied: certifi>=2017.4.17 in /home/jupyterlab/conda/envs/python/lib/python3.7/site-packages (from requests) (2023.5.7)\n"
     ]
    }
   ],
   "source": [
    "!pip3 install beautifulsoup4\n",
    "!pip3 install requests"
   ]
  },
  {
   "cell_type": "code",
   "execution_count": 4,
   "metadata": {
    "tags": []
   },
   "outputs": [],
   "source": [
    "import sys\n",
    "\n",
    "import requests\n",
    "from bs4 import BeautifulSoup\n",
    "import re\n",
    "import unicodedata\n",
    "import pandas as pd"
   ]
  },
  {
   "cell_type": "markdown",
   "metadata": {},
   "source": [
    "and we will provide some helper functions for you to process web scraped HTML table\n"
   ]
  },
  {
   "cell_type": "code",
   "execution_count": 5,
   "metadata": {
    "tags": []
   },
   "outputs": [],
   "source": [
    "def date_time(table_cells):\n",
    "    \"\"\"\n",
    "    This function returns the data and time from the HTML  table cell\n",
    "    Input: the  element of a table data cell extracts extra row\n",
    "    \"\"\"\n",
    "    return [data_time.strip() for data_time in list(table_cells.strings)][0:2]\n",
    "\n",
    "def booster_version(table_cells):\n",
    "    \"\"\"\n",
    "    This function returns the booster version from the HTML  table cell \n",
    "    Input: the  element of a table data cell extracts extra row\n",
    "    \"\"\"\n",
    "    out=''.join([booster_version for i,booster_version in enumerate( table_cells.strings) if i%2==0][0:-1])\n",
    "    return out\n",
    "\n",
    "def landing_status(table_cells):\n",
    "    \"\"\"\n",
    "    This function returns the landing status from the HTML table cell \n",
    "    Input: the  element of a table data cell extracts extra row\n",
    "    \"\"\"\n",
    "    out=[i for i in table_cells.strings][0]\n",
    "    return out\n",
    "\n",
    "\n",
    "def get_mass(table_cells):\n",
    "    mass=unicodedata.normalize(\"NFKD\", table_cells.text).strip()\n",
    "    if mass:\n",
    "        mass.find(\"kg\")\n",
    "        new_mass=mass[0:mass.find(\"kg\")+2]\n",
    "    else:\n",
    "        new_mass=0\n",
    "    return new_mass\n",
    "\n",
    "\n",
    "def extract_column_from_header(row):\n",
    "    \"\"\"\n",
    "    This function returns the landing status from the HTML table cell \n",
    "    Input: the  element of a table data cell extracts extra row\n",
    "    \"\"\"\n",
    "    if (row.br):\n",
    "        row.br.extract()\n",
    "    if row.a:\n",
    "        row.a.extract()\n",
    "    if row.sup:\n",
    "        row.sup.extract()\n",
    "        \n",
    "    colunm_name = ' '.join(row.contents)\n",
    "    \n",
    "    # Filter the digit and empty names\n",
    "    if not(colunm_name.strip().isdigit()):\n",
    "        colunm_name = colunm_name.strip()\n",
    "        return colunm_name    \n"
   ]
  },
  {
   "cell_type": "markdown",
   "metadata": {},
   "source": [
    "To keep the lab tasks consistent, you will be asked to scrape the data from a snapshot of the  `List of Falcon 9 and Falcon Heavy launches` Wikipage updated on\n",
    "`9th June 2021`\n"
   ]
  },
  {
   "cell_type": "code",
   "execution_count": 6,
   "metadata": {
    "tags": []
   },
   "outputs": [],
   "source": [
    "static_url = \"https://en.wikipedia.org/w/index.php?title=List_of_Falcon_9_and_Falcon_Heavy_launches&oldid=1027686922\""
   ]
  },
  {
   "cell_type": "markdown",
   "metadata": {},
   "source": [
    "Next, request the HTML page from the above URL and get a `response` object\n"
   ]
  },
  {
   "cell_type": "markdown",
   "metadata": {},
   "source": [
    "### TASK 1: Request the Falcon9 Launch Wiki page from its URL\n"
   ]
  },
  {
   "cell_type": "markdown",
   "metadata": {},
   "source": [
    "First, let's perform an HTTP GET method to request the Falcon9 Launch HTML page, as an HTTP response.\n"
   ]
  },
  {
   "cell_type": "code",
   "execution_count": 7,
   "metadata": {
    "tags": []
   },
   "outputs": [
    {
     "name": "stdout",
     "output_type": "stream",
     "text": [
      "                                          Flight No.  \\\n",
      "0                            3 January 202314:56[22]   \n",
      "1  Dedicated SmallSat Rideshare mission to Sun-sy...   \n",
      "2                           10 January 202304:50[28]   \n",
      "3  Following the Russian invasion of Ukraine, One...   \n",
      "4                           15 January 202322:56[34]   \n",
      "\n",
      "             Date andtime (UTC) Version,booster[c]  \\\n",
      "0          F9 B5 ♺ B1060.15[23]       CCSFS,SLC-40   \n",
      "1                                                    \n",
      "2               F9 B5 ♺ B1076.2       CCSFS,SLC-40   \n",
      "3                                                    \n",
      "4  Falcon Heavy B5 B1070 (core)         KSC,LC-39A   \n",
      "\n",
      "                                          Launchsite            Payload[d]  \\\n",
      "0   Transporter-6: (115 payloads Smallsat Rideshare)            Unknown[e]   \n",
      "1                                                                            \n",
      "2  OneWeb Flight #16 / SpaceX Flight 2[29][30] (4...  6,000 kg (13,000 lb)   \n",
      "3                                                                            \n",
      "4                     USSF-67 (CBAS-2 & LDPE-3A)[35]  ~3,750 kg (8,270 lb)   \n",
      "\n",
      "  Payload mass    Orbit Customer        Launchoutcome Boosterlanding  ... 277  \\\n",
      "0          SSO  Various  Success  Success(ground pad)                 ...       \n",
      "1                                                                     ...       \n",
      "2    Polar LEO   OneWeb  Success  Success(ground pad)                 ...       \n",
      "3                                                                     ...       \n",
      "4          GEO     USSF  Success           No attempt                 ...       \n",
      "\n",
      "  278 279 280 281 282 283 284 FH 9 285  \n",
      "0                                       \n",
      "1                                       \n",
      "2                                       \n",
      "3                                       \n",
      "4                                       \n",
      "\n",
      "[5 rows x 106 columns]\n"
     ]
    }
   ],
   "source": [
    "import requests\n",
    "from bs4 import BeautifulSoup\n",
    "import pandas as pd\n",
    "\n",
    "# URL of the Wikipedia page\n",
    "url = \"https://en.wikipedia.org/wiki/List_of_Falcon_9_and_Falcon_Heavy_launches\"\n",
    "\n",
    "# Send a GET request to the page\n",
    "response = requests.get(url)\n",
    "response.raise_for_status()  # Check that the request was successful\n",
    "\n",
    "# Assign the response content to an object\n",
    "page_content = response.content\n",
    "\n",
    "# Parse the HTML content of the page with BeautifulSoup\n",
    "soup = BeautifulSoup(page_content, 'html.parser')\n",
    "\n",
    "# Find the table that contains the launch records\n",
    "# You may need to inspect the HTML structure of the page to find the correct table\n",
    "# For this example, we assume it's the first table on the page\n",
    "table = soup.find_all('table', {'class': 'wikitable'})[0]\n",
    "\n",
    "# Extract the headers\n",
    "headers = []\n",
    "for header in table.find_all('th'):\n",
    "    headers.append(header.text.strip())\n",
    "\n",
    "# Extract the rows\n",
    "rows = []\n",
    "for row in table.find_all('tr'):\n",
    "    cells = row.find_all('td')\n",
    "    if len(cells) > 0:\n",
    "        rows.append([cell.text.strip() for cell in cells])\n",
    "\n",
    "# Ensure the number of columns in each row matches the number of headers\n",
    "max_columns = len(headers)\n",
    "adjusted_rows = []\n",
    "for row in rows:\n",
    "    if len(row) == max_columns:\n",
    "        adjusted_rows.append(row)\n",
    "    elif len(row) < max_columns:\n",
    "        # Fill in missing columns with empty strings\n",
    "        adjusted_rows.append(row + [''] * (max_columns - len(row)))\n",
    "\n",
    "# Create a DataFrame\n",
    "df = pd.DataFrame(adjusted_rows, columns=headers)\n",
    "\n",
    "# Display the first few rows of the DataFrame\n",
    "print(df.head())\n",
    "\n",
    "# Save the DataFrame to a CSV file\n",
    "df.to_csv('falcon9_launch_records.csv', index=False)"
   ]
  },
  {
   "cell_type": "markdown",
   "metadata": {},
   "source": [
    "Create a `BeautifulSoup` object from the HTML `response`\n"
   ]
  },
  {
   "cell_type": "code",
   "execution_count": 8,
   "metadata": {
    "tags": []
   },
   "outputs": [
    {
     "name": "stdout",
     "output_type": "stream",
     "text": [
      "<!DOCTYPE html>\n",
      "<html class=\"client-nojs vector-feature-language-in-header-enabled vector-feature-language-in-main-page-header-disabled vector-feature-sticky-header-disabled vector-feature-page-tools-pinned-disabled vector-feature-toc-pinned-clientpref-1 vector-feature-main-menu-pinned-disabled vector-feature-limited-width-clientpref-1 vector-feature-limited-width-content-enabled vector-feature-custom-font-size-clientpref-1 vector-feature-appearance-enabled vector-feature-appearance-pinned-clien\n"
     ]
    }
   ],
   "source": [
    "# Use BeautifulSoup() to create a BeautifulSoup object from a response text content\n",
    "import requests\n",
    "from bs4 import BeautifulSoup\n",
    "\n",
    "# URL of the Wikipedia page\n",
    "url = \"https://en.wikipedia.org/wiki/List_of_Falcon_9_and_Falcon_Heavy_launches\"\n",
    "\n",
    "# Send a GET request to the page\n",
    "response = requests.get(url)\n",
    "response.raise_for_status()  # Check that the request was successful\n",
    "\n",
    "# Use BeautifulSoup to create a BeautifulSoup object from the response text content\n",
    "soup = BeautifulSoup(response.text, 'html.parser')\n",
    "\n",
    "# Now you can use the 'soup' object to find and extract data from the HTML\n",
    "print(soup.prettify()[:500])  # Print the first 500 characters of the prettified HTML to verify"
   ]
  },
  {
   "cell_type": "markdown",
   "metadata": {},
   "source": [
    "Print the page title to verify if the `BeautifulSoup` object was created properly \n"
   ]
  },
  {
   "cell_type": "code",
   "execution_count": 9,
   "metadata": {
    "tags": []
   },
   "outputs": [
    {
     "name": "stdout",
     "output_type": "stream",
     "text": [
      "Page Title: List of Falcon 9 and Falcon Heavy launches - Wikipedia\n"
     ]
    }
   ],
   "source": [
    "# Use soup.title attribute\n",
    "import requests\n",
    "from bs4 import BeautifulSoup\n",
    "\n",
    "# URL of the Wikipedia page\n",
    "url = \"https://en.wikipedia.org/wiki/List_of_Falcon_9_and_Falcon_Heavy_launches\"\n",
    "\n",
    "# Send a GET request to the page\n",
    "response = requests.get(url)\n",
    "response.raise_for_status()  # Check that the request was successful\n",
    "\n",
    "# Use BeautifulSoup to create a BeautifulSoup object from the response text content\n",
    "soup = BeautifulSoup(response.text, 'html.parser')\n",
    "\n",
    "# Get the title of the page\n",
    "page_title = soup.title.string\n",
    "\n",
    "print(\"Page Title:\", page_title)"
   ]
  },
  {
   "cell_type": "markdown",
   "metadata": {},
   "source": [
    "### TASK 2: Extract all column/variable names from the HTML table header\n"
   ]
  },
  {
   "cell_type": "markdown",
   "metadata": {},
   "source": [
    "Next, we want to collect all relevant column names from the HTML table header\n"
   ]
  },
  {
   "cell_type": "markdown",
   "metadata": {},
   "source": [
    "Let's try to find all tables on the wiki page first. If you need to refresh your memory about `BeautifulSoup`, please check the external reference link towards the end of this lab\n"
   ]
  },
  {
   "cell_type": "code",
   "execution_count": 10,
   "metadata": {
    "tags": []
   },
   "outputs": [
    {
     "name": "stdout",
     "output_type": "stream",
     "text": [
      "Column names: ['Flight No.', 'Date andtime (UTC)', 'Version,booster[c]', 'Launchsite', 'Payload[d]', 'Payload mass', 'Orbit', 'Customer', 'Launchoutcome', 'Boosterlanding']\n"
     ]
    }
   ],
   "source": [
    "# Use the find_all function in the BeautifulSoup object, with element type `table`\n",
    "# Assign the result to a list called `html_tables`\n",
    "import requests\n",
    "from bs4 import BeautifulSoup\n",
    "\n",
    "# URL of the Wikipedia page\n",
    "url = \"https://en.wikipedia.org/wiki/List_of_Falcon_9_and_Falcon_Heavy_launches\"\n",
    "\n",
    "# Send a GET request to the page\n",
    "response = requests.get(url)\n",
    "response.raise_for_status()  # Check that the request was successful\n",
    "\n",
    "# Use BeautifulSoup to create a BeautifulSoup object from the response text content\n",
    "soup = BeautifulSoup(response.text, 'html.parser')\n",
    "\n",
    "# Find all tables on the wiki page\n",
    "tables = soup.find_all('table', {'class': 'wikitable'})\n",
    "\n",
    "# Select the first table\n",
    "first_table = tables[0]\n",
    "\n",
    "# Extract all column/variable names from the table header\n",
    "header_row = first_table.find('tr')\n",
    "columns = [header.get_text(strip=True) for header in header_row.find_all('th')]\n",
    "\n",
    "print(\"Column names:\", columns)"
   ]
  },
  {
   "cell_type": "markdown",
   "metadata": {},
   "source": [
    "Starting from the third table is our target table contains the actual launch records.\n"
   ]
  },
  {
   "cell_type": "code",
   "execution_count": 11,
   "metadata": {
    "tags": []
   },
   "outputs": [
    {
     "name": "stdout",
     "output_type": "stream",
     "text": [
      "<table class=\"wikitable\" style=\"width:100%; font-size:1.00em; line-height:1.5em;\">\n",
      "<tbody><tr class=\"is-sticky\">\n",
      "<th scope=\"col\" style=\"width: 10%;\">Date and time (<a href=\"/wiki/Coordinated_Universal_Time\" title=\"Coordinated Universal Time\">UTC</a>)\n",
      "</th>\n",
      "<th scope=\"col\"><a href=\"/wiki/List_of_Falcon_9_first-stage_boosters\" title=\"List of Falcon 9 first-stage boosters\">Version,<br/>booster</a><sup class=\"reference\" id=\"cite_ref-booster_27-2\"><a href=\"#cite_note-booster-27\">[c]</a></sup>\n",
      "</th>\n",
      "<th scope=\"col\">Launch site\n",
      "</th>\n",
      "<th scope=\"col\">Payload<sup class=\"reference\" id=\"cite_ref-Dragon_28-2\"><a href=\"#cite_note-Dragon-28\">[d]</a></sup>\n",
      "</th>\n",
      "<th scope=\"col\">Orbit\n",
      "</th>\n",
      "<th scope=\"col\">Customer\n",
      "</th></tr>\n",
      "<tr>\n",
      "<td rowspan=\"2\">8 July 2024<br/>03:10<sup class=\"reference\" id=\"cite_ref-nextSFupcoming_378-1\"><a href=\"#cite_note-nextSFupcoming-378\">[370]</a></sup>\n",
      "</td>\n",
      "<td><a href=\"/wiki/Falcon_9_Block_5\" title=\"Falcon 9 Block 5\">F9 B5</a>\n",
      "</td>\n",
      "<td><a href=\"/wiki/Vandenberg_Space_Force_Base\" title=\"Vandenberg Space Force Base\">VSFB</a>,<br/><a href=\"/wiki/Vandenberg_Space_Launch_Complex_4\" title=\"Vandenberg Space Launch Complex 4\">SLC-4E</a>\n",
      "</td>\n",
      "<td><a href=\"/wiki/Starlink\" title=\"Starlink\">Starlink Group 9–3</a> (~20 satellites)\n",
      "</td>\n",
      "<td><a href=\"/wiki/Low_Earth_orbit\" title=\"Low Earth orbit\">LEO</a>\n",
      "</td>\n",
      "<td><a href=\"/wiki/SpaceX\" title=\"SpaceX\">SpaceX</a>\n",
      "</td></tr>\n",
      "<tr>\n",
      "<td colspan=\"5\">A West Coast v2 mini Starlink launch to their Generation 2 network.\n",
      "</td></tr>\n",
      "<tr>\n",
      "<td rowspan=\"2\">8 July 2024<br/>~21:20<sup class=\"reference\" id=\"cite_ref-379\"><a href=\"#cite_note-379\">[371]</a></sup>\n",
      "</td>\n",
      "<td><a href=\"/wiki/Falcon_9_Block_5\" title=\"Falcon 9 Block 5\">F9 B5</a>\n",
      "</td>\n",
      "<td><a href=\"/wiki/Cape_Canaveral_Space_Force_Station\" title=\"Cape Canaveral Space Force Station\">CCSFS</a>,<br/><a href=\"/wiki/Cape_Canaveral_Space_Launch_Complex_40\" title=\"Cape Canaveral Space Launch Complex 40\">SLC-40</a>\n",
      "</td>\n",
      "<td><a href=\"/wiki/T%C3%BCrksat_6A\" title=\"Türksat 6A\">Türksat 6A</a><sup class=\"reference\" id=\"cite_ref-380\"><a href=\"#cite_note-380\">[372]</a></sup>\n",
      "</td>\n",
      "<td><a href=\"/wiki/Geostationary_transfer_orbit\" title=\"Geostationary transfer orbit\">GTO</a>\n",
      "</td>\n",
      "<td><a href=\"/wiki/T%C3%BCrksat_(company)\" title=\"Türksat (company)\">Türksat</a>\n",
      "</td></tr>\n",
      "<tr>\n",
      "<td colspan=\"5\">First domestically produced Turkish communications satellite.\n",
      "</td></tr>\n",
      "<tr>\n",
      "<td rowspan=\"2\">15 July 2024<sup class=\"reference\" id=\"cite_ref-shephard14224_381-0\"><a href=\"#cite_note-shephard14224-381\">[373]</a></sup>\n",
      "</td>\n",
      "<td><a href=\"/wiki/Falcon_9_Block_5\" title=\"Falcon 9 Block 5\">F9 B5</a> ♺<sup class=\"reference\" id=\"cite_ref-worldviewlegion_342-2\"><a href=\"#cite_note-worldviewlegion-342\">[334]</a></sup><sup class=\"reference\" id=\"cite_ref-WorldView-Legion_1,_...,_6_382-0\"><a href=\"#cite_note-WorldView-Legion_1,_...,_6-382\">[374]</a></sup>\n",
      "</td>\n",
      "<td><a href=\"/wiki/Cape_Canaveral_Space_Force_Station\" title=\"Cape Canaveral Space Force Station\">CCSFS</a>,<br/><a href=\"/wiki/Cape_Canaveral_Space_Launch_Complex_40\" title=\"Cape Canaveral Space Launch Complex 40\">SLC-40</a><sup class=\"reference\" id=\"cite_ref-sfn_ls_376-1\"><a href=\"#cite_note-sfn_ls-376\">[368]</a></sup>\n",
      "</td>\n",
      "<td><a href=\"/wiki/DigitalGlobe#WorldView_Legion\" title=\"DigitalGlobe\">WorldView Legion 3–4</a> Mission 2 (2 sats)<sup class=\"reference\" id=\"cite_ref-spacenews.com_383-0\"><a href=\"#cite_note-spacenews.com-383\">[375]</a></sup><sup class=\"reference\" id=\"cite_ref-SN240423_384-0\"><a href=\"#cite_note-SN240423-384\">[376]</a></sup><sup class=\"reference\" id=\"cite_ref-worldviewLegion10QSept22_385-0\"><a href=\"#cite_note-worldviewLegion10QSept22-385\">[377]</a></sup>\n",
      "</td>\n",
      "<td><a href=\"/wiki/Sun-synchronous_orbit\" title=\"Sun-synchronous orbit\">SSO</a>\n",
      "</td>\n",
      "<td><a href=\"/wiki/Maxar_Technologies\" title=\"Maxar Technologies\">Maxar Technologies</a>\n",
      "</td></tr>\n",
      "<tr>\n",
      "<td colspan=\"5\"><a href=\"/wiki/Maxar_Technologies\" title=\"Maxar Technologies\">Maxar Technologies</a> built satellites.\n",
      "</td></tr>\n",
      "<tr>\n",
      "<td rowspan=\"2\">18 July 2024<sup class=\"reference\" id=\"cite_ref-nextSFupcoming_378-2\"><a href=\"#cite_note-nextSFupcoming-378\">[370]</a></sup>\n",
      "</td>\n",
      "<td><a href=\"/wiki/Falcon_9_Block_5\" title=\"Falcon 9 Block 5\">F9 B5</a>\n",
      "</td>\n",
      "<td><a href=\"/wiki/Vandenberg_Space_Force_Base\" title=\"Vandenberg Space Force Base\">VSFB</a>,<br/> <a class=\"mw-redirect\" href=\"/wiki/SLC-4E\" title=\"SLC-4E\">SLC-4E</a>\n",
      "</td>\n",
      "<td><i><a href=\"/wiki/List_of_spaceflight_launches_in_July%E2%80%93December_2024#SpXTransporter11\" title=\"List of spaceflight launches in July–December 2024\">Transporter-11</a></i>, SmallSat Rideshare<sup class=\"reference\" id=\"cite_ref-spacex-smallsat_308-2\"><a href=\"#cite_note-spacex-smallsat-308\">[300]</a></sup>\n",
      "</td>\n",
      "<td><a href=\"/wiki/Sun-synchronous_orbit\" title=\"Sun-synchronous orbit\">SSO</a>\n",
      "</td>\n",
      "<td>Various\n",
      "</td></tr>\n",
      "<tr>\n",
      "<td colspan=\"5\">Dedicated SmallSat Rideshare mission to sun-synchronous orbit.\n",
      "</td></tr>\n",
      "<tr>\n",
      "<td rowspan=\"2\">Mid July 2024<sup class=\"reference\" id=\"cite_ref-386\"><a href=\"#cite_note-386\">[378]</a></sup><sup class=\"reference\" id=\"cite_ref-387\"><a href=\"#cite_note-387\">[379]</a></sup>\n",
      "</td>\n",
      "<td><a href=\"/wiki/Falcon_9_Block_5\" title=\"Falcon 9 Block 5\">F9 B5</a>\n",
      "</td>\n",
      "<td><a href=\"/wiki/Vandenberg_Space_Force_Base\" title=\"Vandenberg Space Force Base\">VSFB</a>,<br/><a href=\"/wiki/Vandenberg_Space_Launch_Complex_4\" title=\"Vandenberg Space Launch Complex 4\">SLC-4E</a>\n",
      "</td>\n",
      "<td><a class=\"mw-redirect\" href=\"/wiki/Arctic_Satellite_Broadband_Mission\" title=\"Arctic Satellite Broadband Mission\">ASBM 1</a> (<a class=\"mw-redirect\" href=\"/wiki/Global_Xpress\" title=\"Global Xpress\">GX</a> 10A),<sup class=\"reference\" id=\"cite_ref-388\"><a href=\"#cite_note-388\">[380]</a></sup> <a class=\"mw-redirect\" href=\"/wiki/Arctic_Satellite_Broadband_Mission\" title=\"Arctic Satellite Broadband Mission\">ASBM 2</a> (<a class=\"mw-redirect\" href=\"/wiki/Global_Xpress\" title=\"Global Xpress\">GX</a> 10B)\n",
      "</td>\n",
      "<td><a href=\"/wiki/Highly_elliptical_orbit\" title=\"Highly elliptical orbit\">HEO</a>\n",
      "</td>\n",
      "<td><a href=\"/wiki/Norwegian_Space_Agency\" title=\"Norwegian Space Agency\">Space Norway</a> / <a href=\"/wiki/Inmarsat\" title=\"Inmarsat\">Inmarsat</a>\n",
      "</td></tr>\n",
      "<tr>\n",
      "<td colspan=\"5\"><a href=\"/wiki/Norwegian_Space_Agency\" title=\"Norwegian Space Agency\">Space Norway</a> will launch 2 satellites of the <a class=\"mw-redirect\" href=\"/wiki/Arctic_Satellite_Broadband_Mission\" title=\"Arctic Satellite Broadband Mission\">Arctic Satellite Broadband Mission</a> (ASBM) system into highly elliptical orbits (apogee: 43,509 km (27,035 mi), perigee: 8,089 km (5,026 mi), 63.4° inclination)<sup class=\"reference\" id=\"cite_ref-389\"><a href=\"#cite_note-389\">[381]</a></sup> to provide communication coverage to high latitudes not served by geosynchronous satellites.<sup class=\"reference\" id=\"cite_ref-390\"><a href=\"#cite_note-390\">[382]</a></sup>\n",
      "</td></tr>\n",
      "<tr>\n",
      "<td rowspan=\"2\">Net 31 July 2024<sup class=\"reference\" id=\"cite_ref-391\"><a href=\"#cite_note-391\">[383]</a></sup><sup class=\"reference\" id=\"cite_ref-392\"><a href=\"#cite_note-392\">[384]</a></sup>\n",
      "</td>\n",
      "<td><a href=\"/wiki/Falcon_9_Block_5\" title=\"Falcon 9 Block 5\">F9 B5</a> ♺<br/><a href=\"/wiki/List_of_Falcon_9_first-stage_boosters#B1083\" title=\"List of Falcon 9 first-stage boosters\">B1083.4</a>\n",
      "</td>\n",
      "<td><a href=\"/wiki/Cape_Canaveral_Space_Force_Station\" title=\"Cape Canaveral Space Force Station\">CCSFS</a>,<br/><a href=\"/wiki/Cape_Canaveral_Space_Launch_Complex_40\" title=\"Cape Canaveral Space Launch Complex 40\">SLC-40</a>\n",
      "</td>\n",
      "<td><a href=\"/wiki/Polaris_Dawn\" title=\"Polaris Dawn\">Polaris Dawn</a><sup class=\"reference\" id=\"cite_ref-393\"><a href=\"#cite_note-393\">[385]</a></sup><br/>(<a href=\"/wiki/Crew_Dragon_Resilience\" title=\"Crew Dragon Resilience\">Crew Dragon C207.3 <i>Resilience</i></a> ♺ )\n",
      "</td>\n",
      "<td><a href=\"/wiki/Low_Earth_orbit\" title=\"Low Earth orbit\">LEO</a>\n",
      "</td>\n",
      "<td><a href=\"/wiki/Jared_Isaacman\" title=\"Jared Isaacman\">Jared Isaacman</a> / <a href=\"/wiki/Polaris_program\" title=\"Polaris program\">Polaris Program</a>\n",
      "</td></tr>\n",
      "<tr>\n",
      "<td colspan=\"5\">First of two <a href=\"/wiki/SpaceX_Dragon_2\" title=\"SpaceX Dragon 2\">Crew Dragon</a> missions for the Polaris Program. Crew will consist of <a href=\"/wiki/Jared_Isaacman\" title=\"Jared Isaacman\">Jared Isaacman</a>, <a href=\"/wiki/Scott_Poteet\" title=\"Scott Poteet\">Scott Poteet</a>, <a href=\"/wiki/Sarah_Gillis\" title=\"Sarah Gillis\">Sarah Gillis</a> and <a href=\"/wiki/Anna_Menon\" title=\"Anna Menon\">Anna Menon</a> and will spend up to five days in orbit. Flying higher than any crewed Earth orbiting spacecraft has ever flown, Polaris Dawn will conduct research with the aim of better understanding the effects of spaceflight and space radiation on human health. At approximately 500 kilometers above the Earth, the crew will attempt the first-ever commercial extravehicular activity (EVA) with SpaceX-designed EVA spacesuits, derived from the existing intravehicular (IVA) suit. According to the FCC, the launch will be from SLC-40 for the first time receiving a Crewed mission, with launch backup on LC-39A in case SpaceX abandons the plan.\n",
      "</td></tr>\n",
      "<tr>\n",
      "<td rowspan=\"2\">July 2024<sup class=\"reference\" id=\"cite_ref-Rainbow_394-0\"><a href=\"#cite_note-Rainbow-394\">[386]</a></sup>\n",
      "</td>\n",
      "<td><a href=\"/wiki/Falcon_9_Block_5\" title=\"Falcon 9 Block 5\">F9 B5</a>\n",
      "</td>\n",
      "<td><a href=\"/wiki/Vandenberg_Space_Force_Base\" title=\"Vandenberg Space Force Base\">VSFB</a> or <a href=\"/wiki/Cape_Canaveral\" title=\"Cape Canaveral\">CC</a>\n",
      "</td>\n",
      "<td>BlueBird Block 1 (5 Satellites)<sup class=\"reference\" id=\"cite_ref-AST_SpaceMobile_delays_commercial_s_395-0\"><a href=\"#cite_note-AST_SpaceMobile_delays_commercial_s-395\">[387]</a></sup>\n",
      "</td>\n",
      "<td><a href=\"/wiki/Low_Earth_orbit\" title=\"Low Earth orbit\">LEO</a>\n",
      "</td>\n",
      "<td><a href=\"/wiki/AST_SpaceMobile\" title=\"AST SpaceMobile\">AST SpaceMobile</a>\n",
      "</td></tr>\n",
      "<tr>\n",
      "<td colspan=\"5\">Cellphone-compatible broadband constellation. Each satellite is to be a similar size and weight to its 1,500-kilogram BlueWalker 3 prototype and have a 64 square meter phased array antenna.\n",
      "</td></tr>\n",
      "<tr>\n",
      "<td rowspan=\"2\">Mid August 2024<sup class=\"reference\" id=\"cite_ref-396\"><a href=\"#cite_note-396\">[388]</a></sup>\n",
      "</td>\n",
      "<td><a href=\"/wiki/Falcon_9_Block_5\" title=\"Falcon 9 Block 5\">F9 B5</a> <br/><a href=\"/wiki/List_of_Falcon_9_first-stage_boosters#B1085\" title=\"List of Falcon 9 first-stage boosters\">B1085.1</a>\n",
      "</td>\n",
      "<td><a href=\"/wiki/Cape_Canaveral\" title=\"Cape Canaveral\">CC</a>,<br/><a href=\"/wiki/Cape_Canaveral_Space_Launch_Complex_40\" title=\"Cape Canaveral Space Launch Complex 40\">SLC-40</a>/<a href=\"/wiki/Kennedy_Space_Center_Launch_Complex_39A\" title=\"Kennedy Space Center Launch Complex 39A\">LC-39A</a>\n",
      "</td>\n",
      "<td><a href=\"/wiki/SpaceX_Crew-9\" title=\"SpaceX Crew-9\">Crew-9</a><sup class=\"reference\" id=\"cite_ref-NASACREW7-9_190-2\"><a href=\"#cite_note-NASACREW7-9-190\">[182]</a></sup>\n",
      "</td>\n",
      "<td><a href=\"/wiki/Low_Earth_orbit\" title=\"Low Earth orbit\">LEO</a> (<a class=\"mw-redirect\" href=\"/wiki/ISS\" title=\"ISS\">ISS</a>)\n",
      "</td>\n",
      "<td><a href=\"/wiki/NASA\" title=\"NASA\">NASA</a> (<a class=\"mw-redirect\" href=\"/wiki/ISS_Crew_Transportation_Services\" title=\"ISS Crew Transportation Services\">CTS</a>)<sup class=\"reference\" id=\"cite_ref-CCD6_86-5\"><a href=\"#cite_note-CCD6-86\">[78]</a></sup>\n",
      "</td></tr>\n",
      "<tr>\n",
      "<td colspan=\"5\">After first six <a class=\"mw-redirect\" href=\"/wiki/Crew_Dragon\" title=\"Crew Dragon\">Crew Dragon</a> launches of NASA <a class=\"mw-redirect\" href=\"/wiki/Commercial_Crew_Development\" title=\"Commercial Crew Development\">USCV</a> award, a further three missions for SpaceX were announced on 3 December 2021. These launches carry up to four astronauts and 100 kg (220 lb) of cargo to the ISS as well as feature a lifeboat function to evacuate astronauts from ISS in case of an emergency.<sup class=\"reference\" id=\"cite_ref-CCD6_86-6\"><a href=\"#cite_note-CCD6-86\">[78]</a></sup>\n",
      "</td></tr>\n",
      "<tr>\n",
      "<td rowspan=\"2\">August 2024\n",
      "</td>\n",
      "<td><a href=\"/wiki/Falcon_9_Block_5\" title=\"Falcon 9 Block 5\">F9 B5</a>\n",
      "</td>\n",
      "<td><a href=\"/wiki/Cape_Canaveral\" title=\"Cape Canaveral\">CC</a>,<br/><a href=\"/wiki/Cape_Canaveral_Space_Launch_Complex_40\" title=\"Cape Canaveral Space Launch Complex 40\">SLC-40</a> / <a href=\"/wiki/Kennedy_Space_Center_Launch_Complex_39A\" title=\"Kennedy Space Center Launch Complex 39A\">LC-39A</a>\n",
      "</td>\n",
      "<td><a href=\"/wiki/Cygnus_NG-21\" title=\"Cygnus NG-21\">CRS NG-21</a> (<a href=\"/wiki/Cygnus_(spacecraft)\" title=\"Cygnus (spacecraft)\">Cygnus (enhanced)</a>)<sup class=\"reference\" id=\"cite_ref-397\"><a href=\"#cite_note-397\">[389]</a></sup>\n",
      "</td>\n",
      "<td><a href=\"/wiki/Low_Earth_orbit\" title=\"Low Earth orbit\">LEO</a> (<a class=\"mw-redirect\" href=\"/wiki/ISS\" title=\"ISS\">ISS</a>)\n",
      "</td>\n",
      "<td><a href=\"/wiki/Northrop_Grumman\" title=\"Northrop Grumman\">Northrop Grumman</a> (<a href=\"/wiki/Commercial_Resupply_Services\" title=\"Commercial Resupply Services\">CRS</a>)\n",
      "</td></tr>\n",
      "<tr>\n",
      "<td colspan=\"5\">Second of three launches Northrop Grumman acquired from SpaceX while a replacement engine is developed for its Antares rocket.\n",
      "</td></tr>\n",
      "<tr>\n",
      "<td rowspan=\"2\">August 2024<sup class=\"reference\" id=\"cite_ref-sn-20240102_398-0\"><a href=\"#cite_note-sn-20240102-398\">[390]</a></sup>\n",
      "</td>\n",
      "<td><a href=\"/wiki/Falcon_9_Block_5\" title=\"Falcon 9 Block 5\">F9 B5</a>\n",
      "</td>\n",
      "<td><a href=\"/wiki/Cape_Canaveral\" title=\"Cape Canaveral\">CC</a>,<br/><a href=\"/wiki/Cape_Canaveral_Space_Launch_Complex_40\" title=\"Cape Canaveral Space Launch Complex 40\">SLC-40</a>/<a href=\"/wiki/Kennedy_Space_Center_Launch_Complex_39A\" title=\"Kennedy Space Center Launch Complex 39A\">LC-39A</a>\n",
      "</td>\n",
      "<td><a href=\"/wiki/GSAT-20\" title=\"GSAT-20\">GSAT-20</a><sup class=\"reference\" id=\"cite_ref-NSIL_399-0\"><a href=\"#cite_note-NSIL-399\">[391]</a></sup> (CMS-03)\n",
      "</td>\n",
      "<td><a href=\"/wiki/Geostationary_transfer_orbit\" title=\"Geostationary transfer orbit\">GTO</a>\n",
      "</td>\n",
      "<td><a class=\"mw-redirect\" href=\"/wiki/New_Space_India_Limited\" title=\"New Space India Limited\">New Space India Limited</a><sup class=\"reference\" id=\"cite_ref-NSIL_399-1\"><a href=\"#cite_note-NSIL-399\">[391]</a></sup><br/><a href=\"/wiki/Dish_TV\" title=\"Dish TV\">Dish TV</a><sup class=\"reference\" id=\"cite_ref-400\"><a href=\"#cite_note-400\">[392]</a></sup>\n",
      "</td></tr>\n",
      "<tr>\n",
      "<td colspan=\"5\">Indian telecommunications satellite for <a href=\"/wiki/Dish_TV\" title=\"Dish TV\">Dish TV</a>. Originally planned to launch on <a href=\"/wiki/ISRO\" title=\"ISRO\">ISRO</a>'s <a href=\"/wiki/LVM3\" title=\"LVM3\">LVM3</a>,<sup class=\"reference\" id=\"cite_ref-annualreport2018_401-0\"><a href=\"#cite_note-annualreport2018-401\">[393]</a></sup> but later shifted to <a href=\"/wiki/Falcon_9\" title=\"Falcon 9\">Falcon 9</a> due to mass and scheduling issues.<sup class=\"reference\" id=\"cite_ref-sn-20240102_398-1\"><a href=\"#cite_note-sn-20240102-398\">[390]</a></sup> It will be the first ISRO-made satellite to move from <a href=\"/wiki/Geostationary_transfer_orbit\" title=\"Geostationary transfer orbit\">geostationary transfer orbit</a> to <a href=\"/wiki/Geostationary_orbit\" title=\"Geostationary orbit\">geostationary orbit</a> using electric propulsion.<sup class=\"reference\" id=\"cite_ref-thewire_402-0\"><a href=\"#cite_note-thewire-402\">[394]</a></sup>\n",
      "</td></tr>\n",
      "<tr>\n",
      "<td rowspan=\"2\">~13 September 2024<sup class=\"reference\" id=\"cite_ref-Galileo_403-0\"><a href=\"#cite_note-Galileo-403\">[395]</a></sup>\n",
      "</td>\n",
      "<td><a href=\"/wiki/Falcon_9_Block_5\" title=\"Falcon 9 Block 5\">F9 B5</a>\n",
      "</td>\n",
      "<td><a href=\"/wiki/Cape_Canaveral\" title=\"Cape Canaveral\">CC</a>\n",
      "</td>\n",
      "<td>2× <a href=\"/wiki/Galileo_(satellite_navigation)\" title=\"Galileo (satellite navigation)\">Galileo</a>\n",
      "</td>\n",
      "<td><a class=\"mw-redirect\" href=\"/wiki/Medium_Earth_Orbit\" title=\"Medium Earth Orbit\">MEO</a>\n",
      "</td>\n",
      "<td><a href=\"/wiki/European_Space_Agency\" title=\"European Space Agency\">ESA</a>\n",
      "</td></tr>\n",
      "<tr>\n",
      "<td colspan=\"5\">Second launch of Galileo satellites.\n",
      "</td></tr>\n",
      "<tr>\n",
      "<td rowspan=\"2\">September 2024<sup class=\"reference\" id=\"cite_ref-404\"><a href=\"#cite_note-404\">[396]</a></sup>\n",
      "</td>\n",
      "<td><a href=\"/wiki/Falcon_9_Block_5\" title=\"Falcon 9 Block 5\">F9 B5</a>\n",
      "</td>\n",
      "<td><a href=\"/wiki/Cape_Canaveral\" title=\"Cape Canaveral\">CC</a>,<br/><a href=\"/wiki/Cape_Canaveral_Space_Launch_Complex_40\" title=\"Cape Canaveral Space Launch Complex 40\">SLC-40</a> / <a href=\"/wiki/Kennedy_Space_Center_Launch_Complex_39A\" title=\"Kennedy Space Center Launch Complex 39A\">LC-39A</a>\n",
      "</td>\n",
      "<td><a class=\"mw-redirect\" href=\"/wiki/SpaceX_CRS-31\" title=\"SpaceX CRS-31\">SpaceX CRS-31</a><sup class=\"reference\" id=\"cite_ref-March2022CRS2_320-1\"><a href=\"#cite_note-March2022CRS2-320\">[312]</a></sup>\n",
      "</td>\n",
      "<td><a href=\"/wiki/Low_Earth_orbit\" title=\"Low Earth orbit\">LEO</a> (<a class=\"mw-redirect\" href=\"/wiki/ISS\" title=\"ISS\">ISS</a>)\n",
      "</td>\n",
      "<td><a href=\"/wiki/NASA\" title=\"NASA\">NASA</a> (<a href=\"/wiki/Commercial_Resupply_Services\" title=\"Commercial Resupply Services\">CRS</a>)\n",
      "</td></tr>\n",
      "<tr>\n",
      "<td colspan=\"5\">Six additional <a href=\"/wiki/Commercial_Resupply_Services\" title=\"Commercial Resupply Services\">CRS-2</a> missions for Dragon 2 were announced in March 2022, resupplying the ISS until 2026.\n",
      "</td></tr>\n",
      "<tr>\n",
      "<td rowspan=\"2\">September 2024<sup class=\"reference\" id=\"cite_ref-DoD28222_405-0\"><a href=\"#cite_note-DoD28222-405\">[397]</a></sup>\n",
      "</td>\n",
      "<td><a href=\"/wiki/Falcon_9_Block_5\" title=\"Falcon 9 Block 5\">F9 B5</a>\n",
      "</td>\n",
      "<td><a href=\"/wiki/Vandenberg_Space_Force_Base\" title=\"Vandenberg Space Force Base\">VSFB</a>,<br/><a href=\"/wiki/Vandenberg_Space_Launch_Complex_4\" title=\"Vandenberg Space Launch Complex 4\">SLC-4E</a>\n",
      "</td>\n",
      "<td><a href=\"/wiki/Space_Development_Agency#Launches\" title=\"Space Development Agency\">SDA Tranche 1 Tracking layer T1TL-B</a><sup class=\"reference\" id=\"cite_ref-SSCA12_406-0\"><a href=\"#cite_note-SSCA12-406\">[398]</a></sup>\n",
      "</td>\n",
      "<td><a href=\"/wiki/Polar_orbit\" title=\"Polar orbit\">Polar</a> <a href=\"/wiki/Low_Earth_orbit\" title=\"Low Earth orbit\">LEO</a>\n",
      "</td>\n",
      "<td><a href=\"/wiki/Space_Development_Agency\" title=\"Space Development Agency\">SDA</a>\n",
      "</td></tr>\n",
      "<tr>\n",
      "<td colspan=\"5\">Launch part of Phase 2 US Space Force contract awarded in 2022.\n",
      "</td></tr>\n",
      "<tr>\n",
      "<td rowspan=\"2\">Q3 2024<sup class=\"reference\" id=\"cite_ref-407\"><a href=\"#cite_note-407\">[399]</a></sup><sup class=\"reference\" id=\"cite_ref-408\"><a href=\"#cite_note-408\">[400]</a></sup>\n",
      "</td>\n",
      "<td><a href=\"/wiki/Falcon_9_Block_5\" title=\"Falcon 9 Block 5\">F9 B5</a>\n",
      "</td>\n",
      "<td><a href=\"/wiki/Cape_Canaveral\" title=\"Cape Canaveral\">CC</a>,<br/><a href=\"/wiki/Cape_Canaveral_Space_Launch_Complex_40\" title=\"Cape Canaveral Space Launch Complex 40\">SLC-40</a>/<a href=\"/wiki/Kennedy_Space_Center_Launch_Complex_39A\" title=\"Kennedy Space Center Launch Complex 39A\">LC-39A</a>\n",
      "</td>\n",
      "<td><a href=\"/wiki/Astranis\" title=\"Astranis\">MicroGEO</a> (4 satellites)<sup class=\"reference\" id=\"cite_ref-astranis-microgeo-f9_409-0\"><a href=\"#cite_note-astranis-microgeo-f9-409\">[401]</a></sup>\n",
      "</td>\n",
      "<td><a href=\"/wiki/Geostationary_orbit\" title=\"Geostationary orbit\">GEO</a>\n",
      "</td>\n",
      "<td><a href=\"/wiki/Astranis\" title=\"Astranis\">Astranis</a>\n",
      "</td></tr>\n",
      "<tr>\n",
      "<td colspan=\"5\">Dedicated Falcon 9 launch to put four Astranis MicroGEO communications satellites into service in 2023.<sup class=\"reference\" id=\"cite_ref-astranis-microgeo-f9_409-1\"><a href=\"#cite_note-astranis-microgeo-f9-409\">[401]</a></sup> The MicroGEOs will be launched to a custom geostationary orbit, with the four satellites individually conducting on-orbit maneuvers to inject themselves into their orbital slots. However, it is unclear whether this will be a direct to <a href=\"/wiki/Geostationary_orbit\" title=\"Geostationary orbit\">geostationary orbit</a> insertion, or an optimized <a href=\"/wiki/Geostationary_transfer_orbit\" title=\"Geostationary transfer orbit\">geostationary transfer orbit</a>. The four spacecraft will be mounted to a standard adapter ring, known as an <a href=\"/wiki/EELV_Secondary_Payload_Adapter\" title=\"EELV Secondary Payload Adapter\">ESPA-Grande</a>, for ease of deployment.\n",
      "</td></tr>\n",
      "<tr>\n",
      "<td rowspan=\"2\">Late Q3 / Early Q4 2024<sup class=\"reference\" id=\"cite_ref-410\"><a href=\"#cite_note-410\">[402]</a></sup>\n",
      "</td>\n",
      "<td><a href=\"/wiki/Falcon_9_Block_5\" title=\"Falcon 9 Block 5\">F9 B5</a>\n",
      "</td>\n",
      "<td><a href=\"/wiki/Kennedy_Space_Center\" title=\"Kennedy Space Center\">KSC</a>,<br/><a href=\"/wiki/Kennedy_Space_Center_Launch_Complex_39A\" title=\"Kennedy Space Center Launch Complex 39A\">LC-39A</a>\n",
      "</td>\n",
      "<td><a class=\"mw-redirect\" href=\"/wiki/Blue_Ghost\" title=\"Blue Ghost\">Blue Ghost</a> M1<sup class=\"reference\" id=\"cite_ref-411\"><a href=\"#cite_note-411\">[403]</a></sup><sup class=\"reference\" id=\"cite_ref-412\"><a href=\"#cite_note-412\">[404]</a></sup>\n",
      "</td>\n",
      "<td><a href=\"/wiki/Trans-lunar_injection\" title=\"Trans-lunar injection\">TLI</a>\n",
      "</td>\n",
      "<td><a href=\"/wiki/Firefly_Aerospace\" title=\"Firefly Aerospace\">Firefly Aerospace</a><br/>NASA (<a href=\"/wiki/Commercial_Lunar_Payload_Services\" title=\"Commercial Lunar Payload Services\">CLPS</a>)\n",
      "</td></tr>\n",
      "<tr>\n",
      "<td colspan=\"5\"><a href=\"/wiki/Firefly_Aerospace\" title=\"Firefly Aerospace\">Firefly Aerospace</a> has selected <a href=\"/wiki/SpaceX\" title=\"SpaceX\">SpaceX</a>'s Falcon 9 rocket to deliver the Blue Ghost lunar lander to the lunar surface.<sup class=\"reference\" id=\"cite_ref-413\"><a href=\"#cite_note-413\">[405]</a></sup> Blue Ghost will carry 10 payloads for NASA's <a href=\"/wiki/Commercial_Lunar_Payload_Services\" title=\"Commercial Lunar Payload Services\">Commercial Lunar Payload Services</a> task order 19D mission along with other separately contracted payloads.<sup class=\"reference\" id=\"cite_ref-414\"><a href=\"#cite_note-414\">[406]</a></sup>\n",
      "</td></tr>\n",
      "<tr>\n",
      "<td rowspan=\"2\">8 October 2024<sup class=\"reference\" id=\"cite_ref-sn-20221020_158-1\"><a href=\"#cite_note-sn-20221020-158\">[150]</a></sup>\n",
      "</td>\n",
      "<td><a href=\"/wiki/Falcon_9_Block_5\" title=\"Falcon 9 Block 5\">F9 B5</a>\n",
      "</td>\n",
      "<td><a href=\"/wiki/Cape_Canaveral_Space_Force_Station\" title=\"Cape Canaveral Space Force Station\">CCSFS</a>, <a href=\"/wiki/Cape_Canaveral_Space_Launch_Complex_40\" title=\"Cape Canaveral Space Launch Complex 40\">SLC-40</a>\n",
      "</td>\n",
      "<td><a href=\"/wiki/Hera_(space_mission)\" title=\"Hera (space mission)\">Hera</a> with Juventas and Milani\n",
      "</td>\n",
      "<td><a href=\"/wiki/Heliocentric_orbit\" title=\"Heliocentric orbit\">Heliocentric</a>\n",
      "</td>\n",
      "<td><a class=\"mw-redirect\" href=\"/wiki/ESA\" title=\"ESA\">ESA</a>\n",
      "</td></tr>\n",
      "<tr>\n",
      "<td colspan=\"5\">Hera is a space mission in development at the <a href=\"/wiki/European_Space_Agency\" title=\"European Space Agency\">European Space Agency</a> in its Space Safety program. Its primary objective is to study the <a href=\"/wiki/65803_Didymos\" title=\"65803 Didymos\">Didymos binary asteroid system</a> that was impacted by <a href=\"/wiki/Double_Asteroid_Redirection_Test\" title=\"Double Asteroid Redirection Test\">DART</a> and contribute to validation of the <a href=\"/wiki/Kinetic_energy\" title=\"Kinetic energy\">kinetic</a> impact method to deviate a <a href=\"/wiki/Near-Earth_object\" title=\"Near-Earth object\">near-Earth asteroid</a> in a colliding trajectory with Earth. It will measure the size and the morphology of the crater created by and momentum transferred by an artificial projectile impacting an asteroid, which will allow measuring the efficiency of the deflection produced by the impact. It will also carry two <a href=\"/wiki/Small_satellite\" title=\"Small satellite\">nano-satellite</a> CubeSats, called <i>Milani</i> and <i>Juventas</i>.\n",
      "</td></tr>\n",
      "<tr>\n",
      "<td rowspan=\"4\">10 October 2024<sup class=\"reference\" id=\"cite_ref-415\"><a href=\"#cite_note-415\">[407]</a></sup>\n",
      "</td>\n",
      "<td><a href=\"/wiki/Falcon_Heavy\" title=\"Falcon Heavy\">Falcon Heavy B5</a><br/><a href=\"/wiki/List_of_Falcon_9_first-stage_boosters\" title=\"List of Falcon 9 first-stage boosters\">B1090 (core)</a>\n",
      "</td>\n",
      "<td rowspan=\"3\"><a href=\"/wiki/Kennedy_Space_Center\" title=\"Kennedy Space Center\">KSC</a>,<br/><a href=\"/wiki/Kennedy_Space_Center_Launch_Complex_39A\" title=\"Kennedy Space Center Launch Complex 39A\">LC-39A</a>\n",
      "</td>\n",
      "<td rowspan=\"3\"><a href=\"/wiki/Europa_Clipper\" title=\"Europa Clipper\">Europa Clipper</a>\n",
      "</td>\n",
      "<td rowspan=\"3\"><a href=\"/wiki/Heliocentric_orbit\" title=\"Heliocentric orbit\">Heliocentric</a>\n",
      "</td>\n",
      "<td rowspan=\"3\"><a href=\"/wiki/NASA\" title=\"NASA\">NASA</a>\n",
      "</td></tr>\n",
      "<tr>\n",
      "<td><a href=\"/wiki/List_of_Falcon_9_first-stage_boosters#B1064\" title=\"List of Falcon 9 first-stage boosters\">B1064.6 ♺ (side)</a><sup class=\"reference\" id=\"cite_ref-arstechpsyche20230829_416-0\"><a href=\"#cite_note-arstechpsyche20230829-416\">[408]</a></sup>\n",
      "</td></tr>\n",
      "<tr>\n",
      "<td><a href=\"/wiki/List_of_Falcon_9_first-stage_boosters#B1065\" title=\"List of Falcon 9 first-stage boosters\">B1065.6 ♺ (side)</a><sup class=\"reference\" id=\"cite_ref-arstechpsyche20230829_416-1\"><a href=\"#cite_note-arstechpsyche20230829-416\">[408]</a></sup>\n",
      "</td></tr>\n",
      "<tr>\n",
      "<td colspan=\"5\"><a href=\"/wiki/Europa_Clipper\" title=\"Europa Clipper\">Europa Clipper</a> will conduct a detailed survey of <a href=\"/wiki/Europa_(moon)\" title=\"Europa (moon)\">Europa</a> and use a sophisticated suite of science instruments to investigate whether the icy moon has conditions suitable for life. Key mission objectives are to produce high-resolution images of Europa's surface, determine its composition, look for signs of recent or ongoing geological activity, measure the thickness of the moon's icy shell, search for subsurface lakes, and determine the depth and salinity of Europa's ocean.<sup class=\"reference\" id=\"cite_ref-NASA_EC_L_417-0\"><a href=\"#cite_note-NASA_EC_L-417\">[409]</a></sup> The mission will fly past Mars and Earth before arriving at Jupiter in April 2030.<sup class=\"reference\" id=\"cite_ref-418\"><a href=\"#cite_note-418\">[410]</a></sup><sup class=\"reference\" id=\"cite_ref-419\"><a href=\"#cite_note-419\">[411]</a></sup> The side boosters and the center core will all be expended.\n",
      "</td></tr>\n",
      "<tr>\n",
      "<td rowspan=\"2\">October 2024<sup class=\"reference\" id=\"cite_ref-spacex-smallsat_308-3\"><a href=\"#cite_note-spacex-smallsat-308\">[300]</a></sup>\n",
      "</td>\n",
      "<td><a href=\"/wiki/Falcon_9_Block_5\" title=\"Falcon 9 Block 5\">F9 B5</a>\n",
      "</td>\n",
      "<td><a href=\"/wiki/Vandenberg_Space_Force_Base\" title=\"Vandenberg Space Force Base\">VSFB</a> or <a href=\"/wiki/Cape_Canaveral_Space_Force_Station\" title=\"Cape Canaveral Space Force Station\">CC</a>\n",
      "</td>\n",
      "<td><a href=\"/wiki/List_of_spaceflight_launches_in_July%E2%80%93December_2024#SpXTransporter12\" title=\"List of spaceflight launches in July–December 2024\"><i>Transporter-12</i></a>, SmallSat Rideshare\n",
      "</td>\n",
      "<td><a href=\"/wiki/Sun-synchronous_orbit\" title=\"Sun-synchronous orbit\">SSO</a>\n",
      "</td>\n",
      "<td>Various\n",
      "</td></tr>\n",
      "<tr>\n",
      "<td colspan=\"5\">Dedicated SmallSat Rideshare mission to sun-synchronous orbit.\n",
      "</td></tr>\n",
      "<tr>\n",
      "<td rowspan=\"2\">October 2024<sup class=\"reference\" id=\"cite_ref-DoD28222_405-1\"><a href=\"#cite_note-DoD28222-405\">[397]</a></sup>\n",
      "</td>\n",
      "<td><a href=\"/wiki/Falcon_9_Block_5\" title=\"Falcon 9 Block 5\">F9 B5</a>\n",
      "</td>\n",
      "<td><a href=\"/wiki/Vandenberg_Space_Force_Base\" title=\"Vandenberg Space Force Base\">VSFB</a>,<br/><a href=\"/wiki/Vandenberg_Space_Launch_Complex_4\" title=\"Vandenberg Space Launch Complex 4\">SLC-4E</a>\n",
      "</td>\n",
      "<td><a href=\"/wiki/Space_Development_Agency#Launches\" title=\"Space Development Agency\">SDA Tranche 1 Tracking layer T1TL-C</a><sup class=\"reference\" id=\"cite_ref-SSCA12_406-1\"><a href=\"#cite_note-SSCA12-406\">[398]</a></sup>\n",
      "</td>\n",
      "<td><a href=\"/wiki/Polar_orbit\" title=\"Polar orbit\">Polar</a> <a href=\"/wiki/Low_Earth_orbit\" title=\"Low Earth orbit\">LEO</a>\n",
      "</td>\n",
      "<td><a href=\"/wiki/Space_Development_Agency\" title=\"Space Development Agency\">SDA</a>\n",
      "</td></tr>\n",
      "<tr>\n",
      "<td colspan=\"5\">Launch part of Phase 2 US Space Force contract awarded in 2022.\n",
      "</td></tr>\n",
      "<tr>\n",
      "<td rowspan=\"2\">October 2024<sup class=\"reference\" id=\"cite_ref-420\"><a href=\"#cite_note-420\">[412]</a></sup>\n",
      "</td>\n",
      "<td><a href=\"/wiki/Falcon_9_Block_5\" title=\"Falcon 9 Block 5\">F9 B5</a>\n",
      "</td>\n",
      "<td><a href=\"/wiki/Kennedy_Space_Center\" title=\"Kennedy Space Center\">KSC</a>,<br/><a href=\"/wiki/Kennedy_Space_Center_Launch_Complex_39A\" title=\"Kennedy Space Center Launch Complex 39A\">LC-39A</a>\n",
      "</td>\n",
      "<td><a href=\"/wiki/Axiom_Mission_4\" title=\"Axiom Mission 4\">Ax-4</a><sup class=\"reference\" id=\"cite_ref-axiom_133-2\"><a href=\"#cite_note-axiom-133\">[125]</a></sup>\n",
      "</td>\n",
      "<td><a href=\"/wiki/Low_Earth_orbit\" title=\"Low Earth orbit\">LEO</a> (<a class=\"mw-redirect\" href=\"/wiki/ISS\" title=\"ISS\">ISS</a>)\n",
      "</td>\n",
      "<td><a href=\"/wiki/Axiom_Space\" title=\"Axiom Space\">Axiom Space</a>\n",
      "</td></tr>\n",
      "<tr>\n",
      "<td colspan=\"5\">Contract for 3 additional missions was signed in June 2021.\n",
      "</td></tr>\n",
      "<tr>\n",
      "<td rowspan=\"2\">November 2024<sup class=\"reference\" id=\"cite_ref-421\"><a href=\"#cite_note-421\">[413]</a></sup>\n",
      "</td>\n",
      "<td><a href=\"/wiki/Falcon_9_Block_5\" title=\"Falcon 9 Block 5\">F9 B5</a>\n",
      "</td>\n",
      "<td><a href=\"/wiki/Cape_Canaveral\" title=\"Cape Canaveral\">CC</a>,<br/><a href=\"/wiki/Cape_Canaveral_Space_Launch_Complex_40\" title=\"Cape Canaveral Space Launch Complex 40\">SLC-40</a> / <a href=\"/wiki/Kennedy_Space_Center_Launch_Complex_39A\" title=\"Kennedy Space Center Launch Complex 39A\">LC-39A</a>\n",
      "</td>\n",
      "<td><a href=\"/wiki/Spainsat_NG\" title=\"Spainsat NG\">Spainsat-NG I</a><sup class=\"reference\" id=\"cite_ref-hisdesat-20221107_422-0\"><a href=\"#cite_note-hisdesat-20221107-422\">[414]</a></sup>\n",
      "</td>\n",
      "<td><a href=\"/wiki/Geostationary_transfer_orbit\" title=\"Geostationary transfer orbit\">GTO</a>\n",
      "</td>\n",
      "<td><a href=\"/wiki/Hisdesat\" title=\"Hisdesat\">Hisdesat</a>\n",
      "</td></tr>\n",
      "<tr>\n",
      "<td colspan=\"5\">Communications satellite built on the <a href=\"/wiki/Eurostar_(satellite_bus)\" title=\"Eurostar (satellite bus)\">Eurostar-Neo</a> platform, to be utilized by the Spanish government and its allies.<sup class=\"reference\" id=\"cite_ref-:7_423-0\"><a href=\"#cite_note-:7-423\">[415]</a></sup> First of two launches for the Spainsat-NG program.\n",
      "</td></tr>\n",
      "<tr>\n",
      "<td rowspan=\"4\">November 2024<sup class=\"reference\" id=\"cite_ref-424\"><a href=\"#cite_note-424\">[416]</a></sup>\n",
      "</td>\n",
      "<td><a href=\"/wiki/Falcon_Heavy\" title=\"Falcon Heavy\">Falcon Heavy B5</a><br/><a href=\"/wiki/List_of_Falcon_9_first-stage_boosters\" title=\"List of Falcon 9 first-stage boosters\">B10??.1 (core)</a>\n",
      "</td>\n",
      "<td rowspan=\"3\"><a href=\"/wiki/Kennedy_Space_Center\" title=\"Kennedy Space Center\">KSC</a>,<br/><a href=\"/wiki/Kennedy_Space_Center_Launch_Complex_39A\" title=\"Kennedy Space Center Launch Complex 39A\">LC-39A</a>\n",
      "</td>\n",
      "<td rowspan=\"3\"><a class=\"mw-redirect\" href=\"/wiki/Griffin_Mission_1\" title=\"Griffin Mission 1\">Griffin Mission 1</a><sup class=\"reference\" id=\"cite_ref-425\"><a href=\"#cite_note-425\">[417]</a></sup>\n",
      "</td>\n",
      "<td rowspan=\"3\"><a href=\"/wiki/Trans-lunar_injection\" title=\"Trans-lunar injection\">TLI</a>\n",
      "</td>\n",
      "<td rowspan=\"3\"><a class=\"mw-redirect\" href=\"/wiki/Astrobotic\" title=\"Astrobotic\">Astrobotic</a><br/>NASA (<a href=\"/wiki/Artemis_program\" title=\"Artemis program\">Artemis</a>)\n",
      "</td></tr>\n",
      "<tr>\n",
      "<td><a href=\"/wiki/List_of_Falcon_9_first-stage_boosters#B1072\" title=\"List of Falcon 9 first-stage boosters\">B1072.2 (side)</a>\n",
      "</td></tr>\n",
      "<tr>\n",
      "<td><a href=\"/wiki/List_of_Falcon_9_first-stage_boosters#B1086\" title=\"List of Falcon 9 first-stage boosters\">B1086.2 (side)</a>\n",
      "</td></tr>\n",
      "<tr>\n",
      "<td colspan=\"5\">Astrobotic's <a class=\"mw-redirect\" href=\"/wiki/Griffin_(spacecraft)\" title=\"Griffin (spacecraft)\">Griffin lunar lander</a> was expected to deliver NASA's <i><a href=\"/wiki/VIPER_(rover)\" title=\"VIPER (rover)\">VIPER</a></i> spacecraft to the <a href=\"/wiki/Lunar_south_pole\" title=\"Lunar south pole\">lunar south pole</a>, but this is now extremely unlikely.<sup class=\"reference\" id=\"cite_ref-426\"><a href=\"#cite_note-426\">[418]</a></sup> Booster recovery method is unconfirmed, but could possibly feature the first Falcon Heavy center core recovery attempt since <a class=\"mw-redirect\" href=\"/wiki/STP-2\" title=\"STP-2\">STP-2</a>.<sup class=\"reference\" id=\"cite_ref-427\"><a href=\"#cite_note-427\">[419]</a></sup>\n",
      "</td></tr>\n",
      "<tr>\n",
      "<td rowspan=\"2\">November 2024\n",
      "</td>\n",
      "<td><a href=\"/wiki/Falcon_9_Block_5\" title=\"Falcon 9 Block 5\">F9 B5</a>\n",
      "</td>\n",
      "<td><a href=\"/wiki/Vandenberg_Space_Force_Base\" title=\"Vandenberg Space Force Base\">VSFB</a> or <a href=\"/wiki/Cape_Canaveral\" title=\"Cape Canaveral\">CC</a>\n",
      "</td>\n",
      "<td><i><a href=\"/wiki/List_of_spaceflight_launches_in_July%E2%80%93December_2024#SpXBandwagon2\" title=\"List of spaceflight launches in July–December 2024\">Bandwagon-2</a></i>, SmallSat Rideshare<sup class=\"reference\" id=\"cite_ref-spacex-smallsat_308-4\"><a href=\"#cite_note-spacex-smallsat-308\">[300]</a></sup><sup class=\"reference\" id=\"cite_ref-BandW_330-1\"><a href=\"#cite_note-BandW-330\">[322]</a></sup>\n",
      "</td>\n",
      "<td><a href=\"/wiki/Low_Earth_orbit\" title=\"Low Earth orbit\">LEO</a>\n",
      "</td>\n",
      "<td>Various\n",
      "</td></tr>\n",
      "<tr>\n",
      "<td colspan=\"5\">Dedicated SmallSat Rideshare mission to 45 degree inclination 550–600 km altitude.\n",
      "</td></tr>\n",
      "<tr>\n",
      "<td rowspan=\"2\">November 2024<sup class=\"reference\" id=\"cite_ref-DoD28222_405-2\"><a href=\"#cite_note-DoD28222-405\">[397]</a></sup>\n",
      "</td>\n",
      "<td><a href=\"/wiki/Falcon_9_Block_5\" title=\"Falcon 9 Block 5\">F9 B5</a>\n",
      "</td>\n",
      "<td><a href=\"/wiki/Vandenberg_Space_Force_Base\" title=\"Vandenberg Space Force Base\">VSFB</a>,<br/><a href=\"/wiki/Vandenberg_Space_Launch_Complex_4\" title=\"Vandenberg Space Launch Complex 4\">SLC-4E</a>\n",
      "</td>\n",
      "<td><a href=\"/wiki/Space_Development_Agency#Launches\" title=\"Space Development Agency\">SDA Tranche 1 Tracking layer T1TL-D</a><sup class=\"reference\" id=\"cite_ref-SSCA12_406-2\"><a href=\"#cite_note-SSCA12-406\">[398]</a></sup>\n",
      "</td>\n",
      "<td><a href=\"/wiki/Polar_orbit\" title=\"Polar orbit\">Polar</a> <a href=\"/wiki/Low_Earth_orbit\" title=\"Low Earth orbit\">LEO</a>\n",
      "</td>\n",
      "<td><a href=\"/wiki/Space_Development_Agency\" title=\"Space Development Agency\">SDA</a>\n",
      "</td></tr>\n",
      "<tr>\n",
      "<td colspan=\"5\">Launch part of Phase 2 US Space Force contract awarded in 2022.\n",
      "</td></tr>\n",
      "<tr>\n",
      "<td rowspan=\"2\">November 2024\n",
      "</td>\n",
      "<td><a href=\"/wiki/Falcon_9_Block_5\" title=\"Falcon 9 Block 5\">F9 B5</a>\n",
      "</td>\n",
      "<td><a href=\"/wiki/Vandenberg_Space_Force_Base\" title=\"Vandenberg Space Force Base\">VSFB</a> or <a href=\"/wiki/Cape_Canaveral\" title=\"Cape Canaveral\">CC</a>\n",
      "</td>\n",
      "<td>425 Project SAR satellite flight 3<sup class=\"reference\" id=\"cite_ref-yonhap8124_428-0\"><a href=\"#cite_note-yonhap8124-428\">[420]</a></sup>\n",
      "</td>\n",
      "<td><a href=\"/wiki/Low_Earth_orbit\" title=\"Low Earth orbit\">LEO</a>?\n",
      "</td>\n",
      "<td><a href=\"/wiki/Republic_of_Korea_Armed_Forces\" title=\"Republic of Korea Armed Forces\">Republic of Korea Armed Forces</a>\n",
      "</td></tr>\n",
      "<tr>\n",
      "<td colspan=\"5\">A military satellite of South Korea with a mass of ~800 kg. Expected to be a part of Bandwagon-2.<sup class=\"reference\" id=\"cite_ref-429\"><a href=\"#cite_note-429\">[421]</a></sup>\n",
      "</td></tr>\n",
      "<tr>\n",
      "<td rowspan=\"2\">December 2024<sup class=\"reference\" id=\"cite_ref-DoD28222_405-3\"><a href=\"#cite_note-DoD28222-405\">[397]</a></sup>\n",
      "</td>\n",
      "<td><a href=\"/wiki/Falcon_9_Block_5\" title=\"Falcon 9 Block 5\">F9 B5</a>\n",
      "</td>\n",
      "<td><a href=\"/wiki/Vandenberg_Space_Force_Base\" title=\"Vandenberg Space Force Base\">VSFB</a>,<br/><a href=\"/wiki/Vandenberg_Space_Launch_Complex_4\" title=\"Vandenberg Space Launch Complex 4\">SLC-4E</a>\n",
      "</td>\n",
      "<td><a href=\"/wiki/Space_Development_Agency#Launches\" title=\"Space Development Agency\">SDA Tranche 1 Tracking layer T1TL-E</a><sup class=\"reference\" id=\"cite_ref-SSCA12_406-3\"><a href=\"#cite_note-SSCA12-406\">[398]</a></sup>\n",
      "</td>\n",
      "<td><a href=\"/wiki/Polar_orbit\" title=\"Polar orbit\">Polar</a> <a href=\"/wiki/Low_Earth_orbit\" title=\"Low Earth orbit\">LEO</a>\n",
      "</td>\n",
      "<td><a href=\"/wiki/Space_Development_Agency\" title=\"Space Development Agency\">SDA</a>\n",
      "</td></tr>\n",
      "<tr>\n",
      "<td colspan=\"5\">Launch part of Phase 2 US Space Force contract awarded in 2022.\n",
      "</td></tr>\n",
      "<tr>\n",
      "<td rowspan=\"2\">Q4 2024<sup class=\"reference\" id=\"cite_ref-DoD28222_405-4\"><a href=\"#cite_note-DoD28222-405\">[397]</a></sup>\n",
      "</td>\n",
      "<td><a href=\"/wiki/Falcon_9_Block_5\" title=\"Falcon 9 Block 5\">F9 B5</a>\n",
      "</td>\n",
      "<td><a href=\"/wiki/Vandenberg_Space_Force_Base\" title=\"Vandenberg Space Force Base\">VSFB</a>,<br/><a href=\"/wiki/Vandenberg_Space_Launch_Complex_4\" title=\"Vandenberg Space Launch Complex 4\">SLC-4E</a>\n",
      "</td>\n",
      "<td><a href=\"/wiki/Space_Development_Agency#Launches\" title=\"Space Development Agency\">SDA Tranche 1 Transport layer T1TR-C</a><sup class=\"reference\" id=\"cite_ref-SSCA12_406-4\"><a href=\"#cite_note-SSCA12-406\">[398]</a></sup>\n",
      "</td>\n",
      "<td><a href=\"/wiki/Polar_orbit\" title=\"Polar orbit\">Polar</a> <a href=\"/wiki/Low_Earth_orbit\" title=\"Low Earth orbit\">LEO</a>\n",
      "</td>\n",
      "<td><a href=\"/wiki/Space_Development_Agency\" title=\"Space Development Agency\">SDA</a>\n",
      "</td></tr>\n",
      "<tr>\n",
      "<td colspan=\"5\">Launch part of Phase 2 US Space Force contract awarded in 2022.\n",
      "</td></tr>\n",
      "<tr>\n",
      "<td rowspan=\"2\">Q4 2024<sup class=\"reference\" id=\"cite_ref-sn-20240213_430-0\"><a href=\"#cite_note-sn-20240213-430\">[422]</a></sup>\n",
      "</td>\n",
      "<td><a href=\"/wiki/Falcon_9_Block_5\" title=\"Falcon 9 Block 5\">F9 B5</a>\n",
      "</td>\n",
      "<td><a href=\"/wiki/Kennedy_Space_Center\" title=\"Kennedy Space Center\">KSC</a>,<br/><a href=\"/wiki/Kennedy_Space_Center_Launch_Complex_39A\" title=\"Kennedy Space Center Launch Complex 39A\">LC-39A</a><sup class=\"reference\" id=\"cite_ref-431\"><a href=\"#cite_note-431\">[423]</a></sup>\n",
      "</td>\n",
      "<td><a href=\"/wiki/IM-2\" title=\"IM-2\">IM-2</a> <i><a class=\"mw-redirect\" href=\"/wiki/Nova-C\" title=\"Nova-C\">Nova-C</a></i> lunar lander<br/><a href=\"/wiki/SHERPA_(space_tug)\" title=\"SHERPA (space tug)\">Sherpa-ES</a>\n",
      "</td>\n",
      "<td><a href=\"/wiki/Trans-lunar_injection\" title=\"Trans-lunar injection\">TLI</a>\n",
      "</td>\n",
      "<td><a href=\"/wiki/NASA\" title=\"NASA\">NASA</a> (<a href=\"/wiki/Commercial_Lunar_Payload_Services\" title=\"Commercial Lunar Payload Services\">CLPS</a>)<br/><a href=\"/wiki/Intuitive_Machines\" title=\"Intuitive Machines\">Intuitive Machines</a><br/><a href=\"/wiki/Spaceflight,_Inc.\" title=\"Spaceflight, Inc.\">Spaceflight, Inc.</a>\n",
      "</td></tr>\n",
      "<tr>\n",
      "<td colspan=\"5\">Intuitive Machines is sending its second lander aboard a SpaceX Falcon 9, with a projected launch time frame in late 2024. In February 2024, Intuitive Machines has completed its first lander mission via SpaceX, which is also hosting payloads for other private companies seeking to make lunar landfall under NASA's Commercial Lunar Payload Services program. NASA's <a href=\"/wiki/PRIME-1\" title=\"PRIME-1\">PRIME-1</a> is expected to be included.<sup class=\"reference\" id=\"cite_ref-432\"><a href=\"#cite_note-432\">[424]</a></sup> The Sherpa-ES <i>Go Beyond</i> orbital transfer vehicle will deploy rideshare payloads to trans-lunar orbit, low-lunar orbit and beyond to GEO.<sup class=\"reference\" id=\"cite_ref-433\"><a href=\"#cite_note-433\">[425]</a></sup><sup class=\"reference\" id=\"cite_ref-434\"><a href=\"#cite_note-434\">[426]</a></sup><sup class=\"reference\" id=\"cite_ref-435\"><a href=\"#cite_note-435\">[427]</a></sup> NASA's <a href=\"/wiki/Lunar_Trailblazer\" title=\"Lunar Trailblazer\">Lunar Trailblazer</a> mission will fly as a secondary payload on this mission.<sup class=\"reference\" id=\"cite_ref-436\"><a href=\"#cite_note-436\">[428]</a></sup>\n",
      "</td></tr>\n",
      "<tr>\n",
      "<td rowspan=\"2\">Q4 2024<sup class=\"reference\" id=\"cite_ref-437\"><a href=\"#cite_note-437\">[429]</a></sup>\n",
      "</td>\n",
      "<td><a href=\"/wiki/Falcon_9_Block_5\" title=\"Falcon 9 Block 5\">F9 B5</a>\n",
      "</td>\n",
      "<td><a href=\"/wiki/Cape_Canaveral\" title=\"Cape Canaveral\">CC</a>,<br/><a href=\"/wiki/Cape_Canaveral_Space_Launch_Complex_40\" title=\"Cape Canaveral Space Launch Complex 40\">SLC-40</a>/<a href=\"/wiki/Kennedy_Space_Center_Launch_Complex_39A\" title=\"Kennedy Space Center Launch Complex 39A\">LC-39A</a>\n",
      "</td>\n",
      "<td><a href=\"/wiki/Koreasat\" title=\"Koreasat\">Koreasat</a> 6A<sup class=\"reference\" id=\"cite_ref-438\"><a href=\"#cite_note-438\">[430]</a></sup>\n",
      "</td>\n",
      "<td><a href=\"/wiki/Geostationary_transfer_orbit\" title=\"Geostationary transfer orbit\">GTO</a>\n",
      "</td>\n",
      "<td><a href=\"/wiki/KT_Corporation\" title=\"KT Corporation\">KT Sat</a>\n",
      "</td></tr>\n",
      "<tr>\n",
      "<td colspan=\"5\">South Korean communications satellite built on the <a href=\"/wiki/Spacebus\" title=\"Spacebus\">Spacebus-4000B2</a> platform. To be positioned at 116° East.<sup class=\"reference\" id=\"cite_ref-439\"><a href=\"#cite_note-439\">[431]</a></sup>\n",
      "</td></tr>\n",
      "<tr>\n",
      "<td rowspan=\"2\">H2 2024<sup class=\"reference\" id=\"cite_ref-nextSFupcoming_378-3\"><a href=\"#cite_note-nextSFupcoming-378\">[370]</a></sup><sup class=\"reference\" id=\"cite_ref-SFPR9321_440-0\"><a href=\"#cite_note-SFPR9321-440\">[432]</a></sup>\n",
      "</td>\n",
      "<td><a href=\"/wiki/Falcon_9_Block_5\" title=\"Falcon 9 Block 5\">F9 B5</a><sup class=\"reference\" id=\"cite_ref-ussf36config_441-0\"><a href=\"#cite_note-ussf36config-441\">[433]</a></sup>\n",
      "</td>\n",
      "<td><a href=\"/wiki/Cape_Canaveral\" title=\"Cape Canaveral\">CC</a>,<br/><a href=\"/wiki/Cape_Canaveral_Space_Launch_Complex_40\" title=\"Cape Canaveral Space Launch Complex 40\">SLC-40</a>/<a href=\"/wiki/Kennedy_Space_Center_Launch_Complex_39A\" title=\"Kennedy Space Center Launch Complex 39A\">LC-39A</a><sup class=\"reference\" id=\"cite_ref-ussf36location_442-0\"><a href=\"#cite_note-ussf36location-442\">[434]</a></sup>\n",
      "</td>\n",
      "<td>USSF-36\n",
      "</td>\n",
      "<td class=\"skin-invert no table-no2\" data-sort-value=\"\" style=\"background: #DDF; color:black; vertical-align: middle; text-align: center;\"><abbr title=\"To be announced\">TBA</abbr>\n",
      "</td>\n",
      "<td><a href=\"/wiki/United_States_Space_Force\" title=\"United States Space Force\">USSF</a>\n",
      "</td></tr>\n",
      "<tr>\n",
      "<td colspan=\"5\">Launch part of Phase 2 US Space Force contract awarded in 2021.<sup class=\"reference\" id=\"cite_ref-defense.gov_443-0\"><a href=\"#cite_note-defense.gov-443\">[435]</a></sup>\n",
      "</td></tr>\n",
      "<tr>\n",
      "<td rowspan=\"2\">H2 2024<sup class=\"reference\" id=\"cite_ref-O3b_Nov23_444-0\"><a href=\"#cite_note-O3b_Nov23-444\">[436]</a></sup>\n",
      "</td>\n",
      "<td><a href=\"/wiki/Falcon_9_Block_5\" title=\"Falcon 9 Block 5\">F9 B5</a>\n",
      "</td>\n",
      "<td><a href=\"/wiki/Cape_Canaveral\" title=\"Cape Canaveral\">CC</a>,<br/><a href=\"/wiki/Cape_Canaveral_Space_Launch_Complex_40\" title=\"Cape Canaveral Space Launch Complex 40\">SLC-40</a>/<a href=\"/wiki/Kennedy_Space_Center_Launch_Complex_39A\" title=\"Kennedy Space Center Launch Complex 39A\">LC-39A</a>\n",
      "</td>\n",
      "<td><a href=\"/wiki/O3b_mPOWER\" title=\"O3b mPOWER\">O3b mPOWER</a> 7 &amp; 8\n",
      "</td>\n",
      "<td><a href=\"/wiki/Medium_Earth_orbit\" title=\"Medium Earth orbit\">MEO</a>\n",
      "</td>\n",
      "<td><a class=\"mw-redirect\" href=\"/wiki/SES_S.A.\" title=\"SES S.A.\">SES</a>\n",
      "</td></tr>\n",
      "<tr>\n",
      "<td colspan=\"5\">In August 2020, SES expanded the O3b mPOWER contract with two additional launches, raising the number of satellites from 7 to 11 satellites at nearly 2 tons each.<sup class=\"reference\" id=\"cite_ref-445\"><a href=\"#cite_note-445\">[437]</a></sup><sup class=\"reference\" id=\"cite_ref-businesswire.com_446-0\"><a href=\"#cite_note-businesswire.com-446\">[438]</a></sup> In October 2023 the mission was delayed to the second half of 2024 due to electrical issues discovered in the first four satellites of the constellation.<sup class=\"reference\" id=\"cite_ref-O3b_Nov23_444-1\"><a href=\"#cite_note-O3b_Nov23-444\">[436]</a></sup>\n",
      "</td></tr>\n",
      "<tr>\n",
      "<td rowspan=\"2\">H2 2024<sup class=\"reference\" id=\"cite_ref-shephard14224_381-1\"><a href=\"#cite_note-shephard14224-381\">[373]</a></sup>\n",
      "</td>\n",
      "<td><a href=\"/wiki/Falcon_9_Block_5\" title=\"Falcon 9 Block 5\">F9 B5</a> ♺<sup class=\"reference\" id=\"cite_ref-worldviewlegion_342-3\"><a href=\"#cite_note-worldviewlegion-342\">[334]</a></sup><sup class=\"reference\" id=\"cite_ref-WorldView-Legion_1,_...,_6_382-1\"><a href=\"#cite_note-WorldView-Legion_1,_...,_6-382\">[374]</a></sup>\n",
      "</td>\n",
      "<td><a href=\"/wiki/Cape_Canaveral\" title=\"Cape Canaveral\">CC</a>,<br/><a href=\"/wiki/Cape_Canaveral_Space_Launch_Complex_40\" title=\"Cape Canaveral Space Launch Complex 40\">SLC-40</a>/<a href=\"/wiki/Kennedy_Space_Center_Launch_Complex_39A\" title=\"Kennedy Space Center Launch Complex 39A\">LC-39A</a><sup class=\"reference\" id=\"cite_ref-nextSFupcoming_378-4\"><a href=\"#cite_note-nextSFupcoming-378\">[370]</a></sup>\n",
      "</td>\n",
      "<td><a href=\"/wiki/DigitalGlobe#WorldView_Legion\" title=\"DigitalGlobe\">WorldView Legion 5 &amp; 6</a> Mission 3 (2 sats)<sup class=\"reference\" id=\"cite_ref-spacenews.com_383-1\"><a href=\"#cite_note-spacenews.com-383\">[375]</a></sup><sup class=\"reference\" id=\"cite_ref-SN240423_384-1\"><a href=\"#cite_note-SN240423-384\">[376]</a></sup><sup class=\"reference\" id=\"cite_ref-worldviewLegion10QSept22_385-1\"><a href=\"#cite_note-worldviewLegion10QSept22-385\">[377]</a></sup>\n",
      "</td>\n",
      "<td><a href=\"/wiki/Sun-synchronous_orbit\" title=\"Sun-synchronous orbit\">SSO</a>\n",
      "</td>\n",
      "<td><a href=\"/wiki/Maxar_Technologies\" title=\"Maxar Technologies\">Maxar Technologies</a>\n",
      "</td></tr>\n",
      "<tr>\n",
      "<td colspan=\"5\"><a href=\"/wiki/Maxar_Technologies\" title=\"Maxar Technologies\">Maxar Technologies</a> built satellites.\n",
      "</td></tr>\n",
      "<tr>\n",
      "<td rowspan=\"2\">H2 2024<sup class=\"reference\" id=\"cite_ref-nextSFupcoming_378-5\"><a href=\"#cite_note-nextSFupcoming-378\">[370]</a></sup><sup class=\"reference\" id=\"cite_ref-SFPR9321_440-1\"><a href=\"#cite_note-SFPR9321-440\">[432]</a></sup>\n",
      "</td>\n",
      "<td><a href=\"/wiki/Falcon_9_Block_5\" title=\"Falcon 9 Block 5\">F9 B5</a><sup class=\"reference\" id=\"cite_ref-ussf36config_441-1\"><a href=\"#cite_note-ussf36config-441\">[433]</a></sup>\n",
      "</td>\n",
      "<td><a href=\"/wiki/Cape_Canaveral\" title=\"Cape Canaveral\">CC</a>,<br/><a href=\"/wiki/Cape_Canaveral_Space_Launch_Complex_40\" title=\"Cape Canaveral Space Launch Complex 40\">SLC-40</a>/<a href=\"/wiki/Kennedy_Space_Center_Launch_Complex_39A\" title=\"Kennedy Space Center Launch Complex 39A\">LC-39A</a>\n",
      "</td>\n",
      "<td>NROL-69\n",
      "</td>\n",
      "<td class=\"skin-invert no table-no2\" data-sort-value=\"\" style=\"background: #DDF; color:black; vertical-align: middle; text-align: center;\"><abbr title=\"To be announced\">TBA</abbr>\n",
      "</td>\n",
      "<td><a href=\"/wiki/United_States_Space_Force\" title=\"United States Space Force\">USSF</a>\n",
      "</td></tr>\n",
      "<tr>\n",
      "<td colspan=\"5\">Launch part of Phase 2 US Space Force contract awarded in 2021.<sup class=\"reference\" id=\"cite_ref-defense.gov_443-1\"><a href=\"#cite_note-defense.gov-443\">[435]</a></sup>\n",
      "</td></tr>\n",
      "<tr>\n",
      "<td rowspan=\"2\">Late 2024<sup class=\"reference\" id=\"cite_ref-447\"><a href=\"#cite_note-447\">[439]</a></sup>\n",
      "</td>\n",
      "<td><a href=\"/wiki/Falcon_9_Block_5\" title=\"Falcon 9 Block 5\">F9 B5</a>\n",
      "</td>\n",
      "<td><a href=\"/wiki/Cape_Canaveral\" title=\"Cape Canaveral\">CC</a>,<br/><a href=\"/wiki/Cape_Canaveral_Space_Launch_Complex_40\" title=\"Cape Canaveral Space Launch Complex 40\">SLC-40</a>/<a href=\"/wiki/Kennedy_Space_Center_Launch_Complex_39A\" title=\"Kennedy Space Center Launch Complex 39A\">LC-39A</a>\n",
      "</td>\n",
      "<td><a href=\"/wiki/PT_Pasifik_Satelit_Nusantara#Nusantara_Lima\" title=\"PT Pasifik Satelit Nusantara\">Nusantara Lima</a><sup class=\"reference\" id=\"cite_ref-448\"><a href=\"#cite_note-448\">[440]</a></sup>\n",
      "</td>\n",
      "<td><a href=\"/wiki/Geostationary_transfer_orbit\" title=\"Geostationary transfer orbit\">GTO</a>?\n",
      "</td>\n",
      "<td><a href=\"/wiki/PT_Pasifik_Satelit_Nusantara\" title=\"PT Pasifik Satelit Nusantara\">PT Pasifik Satelit Nusantara</a>\n",
      "</td></tr>\n",
      "<tr>\n",
      "<td colspan=\"5\">A hot backup system for <a href=\"/wiki/PT_Pasifik_Satelit_Nusantara#SATRIA-1\" title=\"PT Pasifik Satelit Nusantara\">SATRIA-1</a>.<sup class=\"reference\" id=\"cite_ref-449\"><a href=\"#cite_note-449\">[441]</a></sup>\n",
      "</td></tr>\n",
      "<tr>\n",
      "<td rowspan=\"2\">2024<sup class=\"reference\" id=\"cite_ref-nextSFupcoming_378-6\"><a href=\"#cite_note-nextSFupcoming-378\">[370]</a></sup>\n",
      "</td>\n",
      "<td><a href=\"/wiki/Falcon_9_Block_5\" title=\"Falcon 9 Block 5\">F9 B5</a> ♺\n",
      "</td>\n",
      "<td><a href=\"/wiki/Kennedy_Space_Center\" title=\"Kennedy Space Center\">KSC</a>,<br/><a href=\"/wiki/Kennedy_Space_Center_Launch_Complex_39A\" title=\"Kennedy Space Center Launch Complex 39A\">LC-39A</a>\n",
      "</td>\n",
      "<td><a href=\"/wiki/Doge-1\" title=\"Doge-1\">DOGE-1</a> <span style=\"color:darkgreen\"><abbr title=\"It is not yet clear whether this will fly as a primary payload, a secondary payload or on a dedicated rideshare mission\">Possible rideshare</abbr></span>\n",
      "</td>\n",
      "<td><a href=\"/wiki/Trans-lunar_injection\" title=\"Trans-lunar injection\">TLI</a>\n",
      "</td>\n",
      "<td>Geometric Energy\n",
      "</td></tr>\n",
      "<tr>\n",
      "<td colspan=\"5\">Originally expected to be a secondary rideshare payload on <a href=\"/wiki/IM-1\" title=\"IM-1\">IM-1</a> mission but the 40 kg was later postponed to a later date due to incomplete radio and launch requirements.&gt;<sup class=\"reference\" id=\"cite_ref-450\"><a href=\"#cite_note-450\">[442]</a></sup><sup class=\"noprint Inline-Template noprint Template-Fact\" style=\"white-space:nowrap;\">[<i><a href=\"/wiki/Wikipedia:No_original_research#Primary,_secondary_and_tertiary_sources\" title=\"Wikipedia:No original research\"><span title=\"This claim needs references to reliable secondary sources. (February 2024)\">non-primary source needed</span></a></i>]</sup>\n",
      "</td></tr>\n",
      "<tr>\n",
      "<td rowspan=\"2\">2024<sup class=\"reference\" id=\"cite_ref-ispr25122_451-0\"><a href=\"#cite_note-ispr25122-451\">[443]</a></sup>\n",
      "</td>\n",
      "<td><a href=\"/wiki/Falcon_9_Block_5\" title=\"Falcon 9 Block 5\">F9 B5</a>\n",
      "</td>\n",
      "<td>Unknown\n",
      "</td>\n",
      "<td><a href=\"/wiki/Ispace_(Japanese_company)\" title=\"Ispace (Japanese company)\">ispace</a> 2nd lunar lander<sup class=\"reference\" id=\"cite_ref-452\"><a href=\"#cite_note-452\">[444]</a></sup>\n",
      "</td>\n",
      "<td><a class=\"mw-redirect\" href=\"/wiki/Trans_Lunar_Injection\" title=\"Trans Lunar Injection\">TLI</a>\n",
      "</td>\n",
      "<td><a href=\"/wiki/Ispace_(Japanese_company)\" title=\"Ispace (Japanese company)\">ispace</a>\n",
      "</td></tr>\n",
      "<tr>\n",
      "<td colspan=\"5\">Second lunar lander built by Japanese company <a href=\"/wiki/Ispace_(Japanese_company)\" title=\"Ispace (Japanese company)\">ispace</a>.\n",
      "</td></tr>\n",
      "<tr>\n",
      "<td rowspan=\"2\">2024<sup class=\"reference\" id=\"cite_ref-453\"><a href=\"#cite_note-453\">[445]</a></sup>\n",
      "</td>\n",
      "<td><a href=\"/wiki/Falcon_9_Block_5\" title=\"Falcon 9 Block 5\">F9 B5</a>\n",
      "</td>\n",
      "<td><a href=\"/wiki/Cape_Canaveral\" title=\"Cape Canaveral\">CC</a>,<br/><a href=\"/wiki/Cape_Canaveral_Space_Launch_Complex_40\" title=\"Cape Canaveral Space Launch Complex 40\">SLC-40</a> / <a href=\"/wiki/Kennedy_Space_Center_Launch_Complex_39A\" title=\"Kennedy Space Center Launch Complex 39A\">LC-39A</a>\n",
      "</td>\n",
      "<td><a href=\"/wiki/Thuraya#Satellites\" title=\"Thuraya\">Thuraya 4-NGS</a>\n",
      "</td>\n",
      "<td><a href=\"/wiki/Geostationary_transfer_orbit\" title=\"Geostationary transfer orbit\">GTO</a>\n",
      "</td>\n",
      "<td><a href=\"/wiki/Thuraya\" title=\"Thuraya\">Thuraya</a>\n",
      "</td></tr>\n",
      "<tr>\n",
      "<td colspan=\"5\">Planned replacement for Thuraya 2.<sup class=\"reference\" id=\"cite_ref-454\"><a href=\"#cite_note-454\">[446]</a></sup>\n",
      "</td></tr>\n",
      "<tr>\n",
      "<td rowspan=\"2\">2024\n",
      "</td>\n",
      "<td><a href=\"/wiki/Falcon_9_Block_5\" title=\"Falcon 9 Block 5\">F9 B5</a>\n",
      "</td>\n",
      "<td><a href=\"/wiki/Cape_Canaveral\" title=\"Cape Canaveral\">CC</a>,<br/><a href=\"/wiki/Cape_Canaveral_Space_Launch_Complex_40\" title=\"Cape Canaveral Space Launch Complex 40\">SLC-40</a> / <a href=\"/wiki/Kennedy_Space_Center_Launch_Complex_39A\" title=\"Kennedy Space Center Launch Complex 39A\">LC-39A</a>\n",
      "</td>\n",
      "<td><a class=\"mw-redirect\" href=\"/wiki/Cygnus_NG-22\" title=\"Cygnus NG-22\">CRS NG-22</a> (<a href=\"/wiki/Cygnus_(spacecraft)\" title=\"Cygnus (spacecraft)\">Cygnus (enhanced)</a>)<sup class=\"reference\" id=\"cite_ref-NG_RepAnt_284-1\"><a href=\"#cite_note-NG_RepAnt-284\">[276]</a></sup>\n",
      "</td>\n",
      "<td><a href=\"/wiki/Low_Earth_orbit\" title=\"Low Earth orbit\">LEO</a> (<a class=\"mw-redirect\" href=\"/wiki/ISS\" title=\"ISS\">ISS</a>)\n",
      "</td>\n",
      "<td><a href=\"/wiki/Northrop_Grumman\" title=\"Northrop Grumman\">Northrop Grumman</a> (<a href=\"/wiki/Commercial_Resupply_Services\" title=\"Commercial Resupply Services\">CRS</a>)\n",
      "</td></tr>\n",
      "<tr>\n",
      "<td colspan=\"5\">Third of three launches Northrop Grumman acquired from SpaceX while a replacement engine is developed for its Antares rocket.\n",
      "</td></tr>\n",
      "<tr>\n",
      "<td rowspan=\"2\">2024\n",
      "</td>\n",
      "<td><a href=\"/wiki/Falcon_9_Block_5\" title=\"Falcon 9 Block 5\">F9 B5</a>\n",
      "</td>\n",
      "<td>Unknown\n",
      "</td>\n",
      "<td>Reentry demonstration capsule <span style=\"color:darkgreen\"><abbr title=\"It is not yet clear whether this will fly as a primary payload, a secondary payload or on a dedicated rideshare mission\">Possible rideshare</abbr></span>\n",
      "</td>\n",
      "<td><a href=\"/wiki/Low_Earth_orbit\" title=\"Low Earth orbit\">LEO</a>\n",
      "</td>\n",
      "<td><a href=\"/wiki/The_Exploration_Company\" title=\"The Exploration Company\">The Exploration Company</a>\n",
      "</td></tr>\n",
      "<tr>\n",
      "<td colspan=\"5\">1600 kg 2.5 metre diameter reduced scale test of a reentry capsule, the full-scale version Nyx (4 metre diameter 8000 kg) is planned to deliver payloads to the ISS and return them back to Earth.<sup class=\"reference\" id=\"cite_ref-455\"><a href=\"#cite_note-455\">[447]</a></sup>\n",
      "</td></tr>\n",
      "<tr>\n",
      "<td rowspan=\"2\">2024?\n",
      "</td>\n",
      "<td><a href=\"/wiki/Falcon_9_Block_5\" title=\"Falcon 9 Block 5\">F9 B5</a>\n",
      "</td>\n",
      "<td><a href=\"/wiki/Cape_Canaveral\" title=\"Cape Canaveral\">CC</a>,<br/><a href=\"/wiki/Cape_Canaveral_Space_Launch_Complex_40\" title=\"Cape Canaveral Space Launch Complex 40\">SLC-40</a>/<a href=\"/wiki/Kennedy_Space_Center_Launch_Complex_39A\" title=\"Kennedy Space Center Launch Complex 39A\">LC-39A</a>\n",
      "</td>\n",
      "<td>USSF-31<sup class=\"reference\" id=\"cite_ref-SSCA12_406-5\"><a href=\"#cite_note-SSCA12-406\">[398]</a></sup>\n",
      "</td>\n",
      "<td class=\"skin-invert no table-no2\" data-sort-value=\"\" style=\"background: #DDF; color:black; vertical-align: middle; text-align: center;\"><abbr title=\"To be announced\">TBA</abbr>\n",
      "</td>\n",
      "<td><a href=\"/wiki/United_States_Space_Force\" title=\"United States Space Force\">USSF</a>\n",
      "</td></tr>\n",
      "<tr>\n",
      "<td colspan=\"5\">Classified mission, part of Phase 2 US Space Force contract awarded in 2022.\n",
      "</td></tr></tbody></table>\n"
     ]
    }
   ],
   "source": [
    "# Let's print the third table and check its content\n",
    "first_launch_table = tables[2]\n",
    "print(first_launch_table)"
   ]
  },
  {
   "cell_type": "markdown",
   "metadata": {},
   "source": [
    "You should able to see the columns names embedded in the table header elements `<th>` as follows:\n"
   ]
  },
  {
   "cell_type": "markdown",
   "metadata": {},
   "source": [
    "```\n",
    "<tr>\n",
    "<th scope=\"col\">Flight No.\n",
    "</th>\n",
    "<th scope=\"col\">Date and<br/>time (<a href=\"/wiki/Coordinated_Universal_Time\" title=\"Coordinated Universal Time\">UTC</a>)\n",
    "</th>\n",
    "<th scope=\"col\"><a href=\"/wiki/List_of_Falcon_9_first-stage_boosters\" title=\"List of Falcon 9 first-stage boosters\">Version,<br/>Booster</a> <sup class=\"reference\" id=\"cite_ref-booster_11-0\"><a href=\"#cite_note-booster-11\">[b]</a></sup>\n",
    "</th>\n",
    "<th scope=\"col\">Launch site\n",
    "</th>\n",
    "<th scope=\"col\">Payload<sup class=\"reference\" id=\"cite_ref-Dragon_12-0\"><a href=\"#cite_note-Dragon-12\">[c]</a></sup>\n",
    "</th>\n",
    "<th scope=\"col\">Payload mass\n",
    "</th>\n",
    "<th scope=\"col\">Orbit\n",
    "</th>\n",
    "<th scope=\"col\">Customer\n",
    "</th>\n",
    "<th scope=\"col\">Launch<br/>outcome\n",
    "</th>\n",
    "<th scope=\"col\"><a href=\"/wiki/Falcon_9_first-stage_landing_tests\" title=\"Falcon 9 first-stage landing tests\">Booster<br/>landing</a>\n",
    "</th></tr>\n",
    "```\n"
   ]
  },
  {
   "cell_type": "markdown",
   "metadata": {},
   "source": [
    "Next, we just need to iterate through the `<th>` elements and apply the provided `extract_column_from_header()` to extract column name one by one\n"
   ]
  },
  {
   "cell_type": "code",
   "execution_count": 12,
   "metadata": {
    "tags": []
   },
   "outputs": [],
   "source": [
    "column_names = []\n",
    "\n",
    "# Apply find_all() function with `th` element on first_launch_table\n",
    "# Iterate each th element and apply the provided extract_column_from_header() to get a column name\n",
    "# Append the Non-empty column name (`if name is not None and len(name) > 0`) into a list called column_names\n"
   ]
  },
  {
   "cell_type": "markdown",
   "metadata": {},
   "source": [
    "Check the extracted column names\n"
   ]
  },
  {
   "cell_type": "code",
   "execution_count": 13,
   "metadata": {
    "tags": []
   },
   "outputs": [
    {
     "name": "stdout",
     "output_type": "stream",
     "text": [
      "[]\n"
     ]
    }
   ],
   "source": [
    "print(column_names)"
   ]
  },
  {
   "cell_type": "markdown",
   "metadata": {},
   "source": [
    "## TASK 3: Create a data frame by parsing the launch HTML tables\n"
   ]
  },
  {
   "cell_type": "markdown",
   "metadata": {},
   "source": [
    "We will create an empty dictionary with keys from the extracted column names in the previous task. Later, this dictionary will be converted into a Pandas dataframe\n"
   ]
  },
  {
   "cell_type": "code",
   "execution_count": 16,
   "metadata": {
    "tags": []
   },
   "outputs": [
    {
     "name": "stdout",
     "output_type": "stream",
     "text": [
      "[]\n",
      "{'Version Booster': [], 'Booster landing': [], 'Date': [], 'Time': [], 'Flight No.': [], 'Launch site': [], 'Payload': [], 'Payload mass': [], 'Orbit': [], 'Customer': [], 'Launch outcome': []}\n"
     ]
    }
   ],
   "source": [
    "# Verify the column names\n",
    "print(column_names)\n",
    "\n",
    "# Create a dictionary with keys from the column names\n",
    "launch_dict = dict.fromkeys(column_names)\n",
    "\n",
    "# Check if the unwanted column name exists and delete it\n",
    "unwanted_column = 'Date and time ( )'  \n",
    "if unwanted_column in launch_dict:\n",
    "    del launch_dict[unwanted_column]\n",
    "\n",
    "# Initialize the launch_dict with each value to be an empty list\n",
    "for key in launch_dict.keys():\n",
    "    launch_dict[key] = []\n",
    "\n",
    "# Add new columns and initialize them with empty lists\n",
    "launch_dict['Version Booster'] = []\n",
    "launch_dict['Booster landing'] = []\n",
    "launch_dict['Date'] = []\n",
    "launch_dict['Time'] = []\n",
    "launch_dict['Flight No.'] = []\n",
    "launch_dict['Launch site'] = []\n",
    "launch_dict['Payload'] = []\n",
    "launch_dict['Payload mass'] = []\n",
    "launch_dict['Orbit'] = []\n",
    "launch_dict['Customer'] = []\n",
    "launch_dict['Launch outcome'] = []\n",
    "\n",
    "# Print the dictionary to verify\n",
    "print(launch_dict)"
   ]
  },
  {
   "cell_type": "markdown",
   "metadata": {},
   "source": [
    "Next, we just need to fill up the `launch_dict` with launch records extracted from table rows.\n"
   ]
  },
  {
   "cell_type": "markdown",
   "metadata": {},
   "source": [
    "Usually, HTML tables in Wiki pages are likely to contain unexpected annotations and other types of noises, such as reference links `B0004.1[8]`, missing values `N/A [e]`, inconsistent formatting, etc.\n"
   ]
  },
  {
   "cell_type": "markdown",
   "metadata": {},
   "source": [
    "To simplify the parsing process, we have provided an incomplete code snippet below to help you to fill up the `launch_dict`. Please complete the following code snippet with TODOs or you can choose to write your own logic to parse all launch tables:\n"
   ]
  },
  {
   "cell_type": "code",
   "execution_count": 18,
   "metadata": {
    "tags": []
   },
   "outputs": [
    {
     "name": "stdout",
     "output_type": "stream",
     "text": [
      "{'Flight No.': ['195', '196', '197', '198', '199', '200', '201', '202', '203', '204', '205', '206', '207', '208', '209', '210', '211', '212', '213', '214', '215', '216', '217', '218', '219', '220', '221', '222', '223', '224', '225', '226', '227', '228', '229', '230', '231', '232', '233', '234', '235', '236', '237', '238', '239', '240', '241', '242', '243', '244', '245', '246', '247', '248', '249', '250', '251', '252', '253', '254', '255', '256', '257', '258', '259', '260', '261', '262', '263', '264', '265', '266', '267', '268', '269', '270', '271', '272', '273', '274', '275', '276', '277', '278', '279', '280', '281', '282', '283', '284', '285', '286', '287', '288', '289', '290', '291', '292', '293', '294', '295', '296', '297', '298', '299', '300', '301', '302', '303', '304', '305', '306', '307', '308', '309', '310', '311', '312', '313', '314', '315', '316', '317', '318', '319', '320', '321', '322', '323', '324', '325', '326', '327', '328', '329', '330', '331', '332', '333', '334', '335', '336', '337', '338', '339', '340', '341', '342', '343', '344', '345', '346', '347', '348', '349', '350', '351', '352'], 'Date': ['3 January 2023', '10 January 2023', '18 January 2023', '19 January 2023', '26 January 2023', '31 January 2023', '2 February 2023', '7 February 2023', '12 February 2023', '17 February 2023', '18 February 2023', '27 February 2023', '2 March 2023', '3 March 2023', '9 March 2023', '15 March 2023', '17 March 2023', '17 March 2023', '24 March 2023', '29 March 2023', '2 April 2023', '7 April 2023', '15 April 2023', '19 April 2023', '27 April 2023', '28 April 2023', '4 May 2023', '10 May 2023', '14 May 2023', '19 May 2023', '20 May 2023', '21 May 2023', '27 May 2023', '31 May 2023', '4 June 2023', '5 June 2023', '12 June 2023', '12 June 2023', '18 June 2023', '22 June 2023', '23 June 2023', '1 July 2023', '7 July 2023', '10 July 2023', '16 July 2023', '20 July 2023', '24 July 2023', '28 July 2023', '3 August 2023', '7 August 2023', '8 August 2023', '11 August 2023', '17 August 2023', '22 August 2023', '26 August 2023', '27 August 2023', '1 September 2023', '2 September 2023', '4 September 2023', '9 September 2023', '12 September 2023', '16 September 2023', '20 September 2023', '24 September 2023', '25 September 2023', '30 September 2023', '5 October 2023', '9 October 2023', '13 October 2023', '18 October 2023', '21 October 2023', '22 October 2023', '29 October 2023', '30 October 2023', '4 November 2023', '8 November 2023', '10 November 2023', '11 November 2023', '12 November 2023', '18 November 2023', '20 November 2023', '22 November 2023', '28 November 2023', '1 December 2023', '3 December 2023', '7 December 2023', '8 December 2023', '19 December 2023', '23 December 2023', '24 December 2023', '29 December 2023', '3 January 2024', '3 January 2024', '7 January 2024', '14 January 2024', '15 January 2024', '18 January 2024', '24 January 2024', '29 January 2024', '29 January 2024', '30 January 2024', '8 February 2024', '10 February 2024', '14 February 2024', '15 February 2024', '15 February 2024', '20 February 2024', '23 February 2024', '25 February 2024', '29 February 2024', '4 March 2024', '4 March 2024', '4 March 2024', '10 March 2024', '11 March 2024', '16 March 2024', '19 March 2024', '21 March 2024', '24 March 2024', '25 March 2024', '30 March 2024', '31 March 2024', '2 April 2024', '5 April 2024', '7 April 2024', '7 April 2024', '10 April 2024', '11 April 2024', '13 April 2024', '17 April 2024', '18 April 2024', '23 April 2024', '28 April 2024', '28 April 2024', '2 May 2024', '3 May 2024', '6 May 2024', '8 May 2024', '10 May 2024', '13 May 2024', '14 May 2024', '18 May 2024', '22 May 2024', '23 May 2024', '24 May 2024', '28 May 2024', '28 May 2024', '1 June 2024', '5 June 2024', '8 June 2024', '8 June 2024', '19 June 2024', '20 June 2024', '23 June 2024', '24 June 2024', '27 June 2024', '29 June 2024', '3 July 2024'], 'Time': ['14:56', '04:50', '12:24', '15:43', '09:32', '16:15', '07:58', '01:32', '05:10', '19:12', '03:59', '23:13', '05:34', '18:38', '19:13', '00:30', '19:26', '23:38', '15:43', '20:01', '14:29', '04:30', '06:47', '14:31', '13:40', '22:12', '07:31', '20:09', '05:03', '06:19', '13:16', '21:37', '04:30', '06:02', '12:20', '15:47', '07:10', '21:35', '22:21', '07:19', '15:35', '15:12', '19:29', '03:58', '03:50', '04:09', '00:50', '04:01', '05:00', '02:41', '03:57', '05:17', '03:36', '09:37', '07:27', '01:05', '02:21', '[188]', '02:47', '03:12', '06:57', '03:38', '03:38', '03:38', '08:48', '02:00', '05:36', '07:23', '23:01', '00:39', '08:23', '02:17', '09:00', '23:20', '00:37', '05:05', '01:28', '18:49', '21:08', '05:05', '10:30', '07:47', '04:20', '18:19', '04:00', '05:07', '08:03', '04:01', '05:33', '13:11', '04:01', '03:44', '23:04', '22:35', '08:59', '01:52', '21:49', '00:35', '01:10', '05:57', '17:07', '06:33', '00:34', '22:30', '06:05', '21:34', '20:11', '04:11', '22:06', '15:30', '03:53', '22:05', '23:56', '23:05', '04:09', '00:21', '02:28', '20:55', '03:09', '23:42', '21:52', '01:30', '02:30', '09:12', '02:25', '23:16', '05:40', '14:25', '01:40', '21:26', '22:40', '22:17', '00:34', '22:08', '18:36', '02:37', '18:14', '18:42', '04:30', '00:53', '18:39', '00:32', '08:00', '02:35', '02:45', '14:24', '22:20', '02:37', '02:16', '01:56', '12:58', '03:40', '21:35', '17:15', '03:47', '11:14', '03:14', '08:55'], 'Version Booster': ['F9 B5B1060.15', 'F9 B5', 'F9 B5', 'F9 B5', 'F9 B5', 'F9 B5B1071.7', 'F9 B5', 'F9 B5B1073.6', 'F9 B5B1062.12', 'F9 B5B1063.9', 'F9 B5B1077.3', 'F9 B5B1076.3', 'F9 B5', 'F9 B5', 'F9 B5', 'F9 B5B1073.7', 'F9 B5', 'F9 B5', 'F9 B5', 'F9 B5', 'F9 B5', 'F9 B5', 'F9 B5', 'F9 B5', 'F9 B5', 'F9 B5B1078.2', 'F9 B5B1069.7', 'F9 B5B1075.3', 'F9 B5', 'F9 B5', 'F9 B5', 'F9 B5', 'F9 B5', 'F9 B5', 'F9 B5', 'F9 B5B1077.5', 'F9 B5', 'F9 B5', 'F9 B5B1067.12', 'F9 B5B1075.4', 'F9 B5', 'F9 B5', 'F9 B5B1063.12', 'F9 B5', 'F9 B5B1060.16', 'F9 B5', 'F9 B5', 'F9 B5', 'F9 B5', 'F9 B5', 'F9 B5', 'F9 B5', 'F9 B5', 'F9 B5', 'F9 B5', 'F9 B5', 'F9 B5', 'F9 B5', 'F9 B5', 'F9 B5', 'F9 B5', 'F9 B5', 'F9 B5', 'F9 B5', 'F9 B5', 'F9 B5', 'F9 B5', 'F9 B5', 'F9 B5', 'F9 B5', 'F9 B5', 'F9 B5', 'F9 B5', 'F9 B5', 'F9 B5', 'F9 B5', 'F9 B5', 'F9 B5', 'F9 B5', 'F9 B5', 'F9 B5', 'F9 B5', 'F9 B5', 'F9 B5', 'F9 B5', 'F9 B5', 'F9 B5', 'F9 B5', 'F9 B5', 'F9 B5', 'F9 B5', 'F9 B5', 'F9 B5', 'F9 B5', 'F9 B5', 'F9 B5', 'F9 B5', 'F9 B5', 'F9 B5', 'F9 B5', 'F9 B5', 'F9 B5', 'F9 B5', 'F9 B5', 'F9 B5', 'F9 B5', 'F9 B5', 'F9 B5', 'F9 B5', 'F9 B5', 'F9 B5', 'F9 B5', 'F9 B5', 'F9 B5', 'F9 B5', 'F9 B5', 'F9 B5', 'F9 B5', 'F9 B5', 'F9 B5', 'F9 B5', 'F9 B5', 'F9 B5', 'F9 B5', 'F9 B5', 'F9 B5', 'F9 B5', 'F9 B5', 'F9 B5', 'F9 B5', 'F9 B5', 'F9 B5', 'F9 B5', 'F9 B5', 'F9 B5', 'F9 B5', 'F9 B5', 'F9 B5', 'F9 B5', 'F9 B5', 'F9 B5', 'F9 B5', 'F9 B5', 'F9 B5', 'F9 B5', 'F9 B5', 'F9 B5', 'F9 B5', 'F9 B5', 'F9 B5', 'F9 B5', 'F9 B5', 'F9 B5', 'F9 B5', 'F9 B5', 'F9 B5', 'F9 B5', 'F9 B5'], 'Launch site': ['CCSFS', 'CCSFS', 'CCSFS', 'VSFB', 'CCSFS', 'VSFB', 'KSC', 'CCSFS', 'CCSFS', 'VSFB', 'CCSFS', 'CCSFS', 'KSC', 'VSFB', 'CCSFS', 'KSC', 'VSFB', 'CCSFS', 'CCSFS', 'CCSFS', 'VSFB', 'CCSFS', 'VSFB', 'CCSFS', 'VSFB', 'CCSFS', 'CCSFS', 'VSFB', 'CCSFS', 'CCSFS', 'VSFB', 'KSC', 'CCSFS', 'VSFB', 'CCSFS', 'KSC', 'CCSFS', 'VSFB', 'CCSFS', 'VSFB', 'CCSFS', 'CCSFS', 'VSFB', 'CCSFS', 'CCSFS', 'VSFB', 'CCSFS', 'CCSFS', 'CCSFS', 'CCSFS', 'VSFB', 'CCSFS', 'CCSFS', 'VSFB', 'KSC', 'CCSFS', 'CCSFS', 'VSFB', 'KSC', 'CCSFS', 'VSFB', 'CCSFS', 'CCSFS', 'CCSFS', 'VSFB', 'CCSFS', 'CCSFS', 'VSFB', 'CCSFS', 'CCSFS', 'VSFB', 'CCSFS', 'VSFB', 'CCSFS', 'CCSFS', 'CCSFS', 'KSC', 'VSFB', 'CCSFS', 'CCSFS', 'VSFB', 'CCSFS', 'CCSFS', 'VSFB', 'CCSFS', 'CCSFS', 'VSFB', 'CCSFS', 'CCSFS', 'VSFB', 'CCSFS', 'VSFB', 'CCSFS', 'CCSFS', 'VSFB', 'CCSFS', 'KSC', 'VSFB', 'KSC', 'VSFB', 'CCSFS', 'CCSFS', 'VSFB', 'CCSFS', 'KSC', 'VSFB', 'CCSFS', 'VSFB', 'CCSFS', 'CCSFS', 'KSC', 'VSFB', 'CCSFS', 'CCSFS', 'VSFB', 'KSC', 'VSFB', 'CCSFS', 'KSC', 'CCSFS', 'KSC', 'CCSFS', 'VSFB', 'CCSFS', 'VSFB', 'KSC', 'CCSFS', 'VSFB', 'CCSFS', 'KSC', 'CCSFS', 'CCSFS', 'KSC', 'CCSFS', 'VSFB', 'CCSFS', 'CCSFS', 'KSC', 'VSFB', 'CCSFS', 'VSFB', 'CCSFS', 'VSFB', 'CCSFS', 'KSC', 'CCSFS', 'VSFB', 'CCSFS', 'CCSFS', 'CCSFS', 'VSFB', 'VSFB', 'CCSFS', 'CCSFS', 'VSFB', 'CCSFS', 'VSFB', 'CCSFS'], 'Payload': [None, 'OneWeb', 'USA-343', 'Starlink Group 2–4', 'Starlink Group 5-2', 'Starlink Group 2–6', 'Starlink Group 5-3', 'Amazonas Nexus', 'Starlink Group 5-4', 'Starlink Group 2–5', 'Inmarsat-6 F2', 'Starlink Group 6-1', 'Crew-6', 'Starlink Group 2–7', 'OneWeb #17', 'SpaceX CRS-27', 'Starlink Group 2–8', 'SES-18 and SES-19', 'Starlink Group 5-5', 'Starlink Group 5–10', 'Transport and Tracking Layer (Tranche 0A)', 'Intelsat 40e', 'Transporter-7: (51 payloads Smallsat Rideshare)', 'Starlink Group 6-2', 'Starlink Group 3–5', 'O3b mPOWER', 'Starlink Group 5–6', 'Starlink Group 2–9', 'Starlink Group 5–9', 'Starlink Group 6-3', 'Iridium-NEXT', 'Ax-2', 'ArabSat 7B', 'Starlink Group 2–10', 'Starlink Group 6-4', 'SpaceX CRS-28', 'Starlink Group 5–11', None, 'SATRIA', 'Starlink Group 5–7', 'Starlink Group 5–12', 'Euclid', 'Starlink Group 5–13', 'Starlink Group 6-5', 'Starlink Group 5–15', 'Starlink Group 6–15', 'Starlink Group 6-6', 'Starlink Group 6–7', 'Galaxy 37', 'Starlink Group 6–8', 'Starlink Group 6–20', 'Starlink Group 6–9', 'Starlink Group 6–10', 'Starlink Group 7-1', 'Crew-7', 'Starlink Group 6–11', 'Starlink Group 6–13', 'Transport and Tracking Layer (Tranche 0B)', 'Starlink Group 6–12', 'Starlink Group 6–14', 'Starlink Group 7-2', 'Starlink Group 6–16', 'Starlink Group 6–17', 'Starlink Group 6–18', 'Starlink Group 7-3', 'Starlink Group 6–19', 'Starlink Group 6–21', 'Starlink Group 7-4', 'Starlink Group 6–22', 'Starlink Group 6–23', 'Starlink Group 7-5', 'Starlink Group 6–24', 'Starlink Group 7-6', 'Starlink Group 6–25', 'Starlink Group 6–26', 'Starlink Group 6–27', 'SpaceX CRS-29', None, 'O3b mPOWER', 'Starlink Group 6–28', 'Starlink Group 7-7', 'Starlink Group 6–29', 'Starlink Group 6–30', '[228]', 'Starlink Group 6–31', 'Starlink Group 6–33', 'Starlink Group 7–8', 'Starlink Group 6–34', 'Starlink Group 6–32', 'SARah', 'Starlink Group 6–36', 'Starlink Group 7–9', 'Ovzon-3', 'Starlink Group 6–35', 'Starlink Group 7–10', 'Starlink Group 6–37', 'Ax-3', 'Starlink Group 7–11', 'Starlink Group 6–38', 'Starlink Group 7–12', 'CRS NG-20', 'PACE', 'Starlink Group 7–13', 'SDA', 'IM-1', 'Starlink Group 7–14', 'Merah Putih 2 / Telkomsat HTS 113BT', 'Starlink Group 7–15', 'Starlink Group 6–39', 'Starlink Group 6–40', 'Crew-8', None, 'Starlink Group 6–41', 'Starlink Group 6–43', 'Starlink Group 7–17', 'Starlink Group 6–44', 'Starlink Group 7–16', 'SpaceX CRS-30', 'Starlink Group 6–42', 'Starlink Group 6–46', None, 'Starlink Group 6–45', 'Starlink Group 7–18', 'Starlink Group 6–47', 'Starlink Group 8-1', 'Bandwagon-1', 'Starlink Group 6–48', 'WSF-M 1', 'Starlink Group 6–49', 'Starlink Group 6–51', 'Starlink Group 6–52', 'Starlink Group 6–53', 'Galileo', 'Starlink Group 6–54', 'WorldView Legion 1 & 2', 'Starlink Group 6–55', 'Starlink Group 6–57', 'Starlink Group 6–56', 'Starlink Group 8-2', 'Starlink Group 6–58', 'Starlink Group 8-7', 'Starlink Group 6–59', 'Starshield', 'Starlink Group 6–62', 'Starlink Group 6–63', 'Starlink Group 6–60', 'EarthCARE', 'Starlink Group 6–64', 'Starlink Group 8–5', 'Starlink Group 10–1', 'Starlink Group 8–8', 'Starlink Group 9–1', 'Astra 1P/SES-24', 'Starlink Group 10–2', 'Starlink Group 9–2', 'Starlink Group 10–3', 'Starshield', 'Starlink Group 8–9'], 'Payload mass': ['U', '6,000 kg', '4,352 kg', '15,000 kg', '~17,400 kg', '~15,200 kg', '16,500 kg', '4,146 kg', '17,100 kg', '15,900 kg', '5,470 kg', '~15,300 kg', '~13,000 kg', '15,900 kg', '6,000 kg', '2,852 kg', '~16,200 kg', '~7,000 kg', '~17,400 kg', '~17,400 kg', 'U', '~5,588 kg', 'U', '~15,300 kg', '~14,100 kg', '~4,100 kg', '~17,400 kg', '15,900 kg', '~17,400 kg', '~16,100 kg', '~6,600 kg', '~13,000 kg', '~4,500 kg', '~16,400 kg', '~16,100 kg', '~9,525 kg', '~16,400 kg', 'U', '~4,580 kg', '~14,500 kg', '~17,400 kg', '~2,160 kg', '~14,900 kg', '~16,100 kg', '~16,700 kg', '~12,000 kg', '~16,100 kg', '~16,100 kg', '~5,063 kg', '~16,100 kg', '~12,000 kg', '~16,100 kg', '~16,100 kg', '~15,300 kg', '~13,000 kg', '~16,100 kg', '~16,100 kg', 'U', '~15,300 kg', '~16,100 kg', '~15,300 kg', '~16,100 kg', '~16,100 kg', '~16,100 kg', '~15,300 kg', '~16,100 kg', '~16,100 kg', '~15,300 kg', '~16,100 kg', '~16,100 kg', '~15,300 kg', '~16,800 kg', '~16,100 kg', '~16,800 kg', '~16,800 kg', '~16,800 kg', '~9,525 kg', 'U', '~4,100 kg', '~16,800 kg', '~16,100 kg', '~16,800 kg', '~16,800 kg', '~800 kg', '~16,800 kg', '~16,800 kg', '~16,100 kg', '~16,800 kg', '~16,800 kg', '~3,600 kg', '~16,800 kg', '~16,800 kg', '1,800 kg', '~17,100 kg', '~16,700 kg', '~17,100 kg', '~13,000 kg', '~16,700 kg', '~17,100 kg', '~16,700 kg', '3,726 kg', '1,694 kg', '~16,700 kg', 'U', '1,931 kg', '~16,700 kg', '4,000 kg', '~16,700 kg', '~17,500 kg', '~17,100 kg', '~13,000 kg', 'U', '~17,100 kg', '~17,100 kg', '~17,100 kg', '~17,100 kg', '~16,100 kg', '2,721 kg', '~17,100 kg', '~17,100 kg', '5,000 kg', '~17,100 kg', '~16,700 kg', '~17,100 kg', '~16,800 kg', 'U', '~17,100 kg', '1,200 kg', '~17,100 kg', '~17,100 kg', '~17,100 kg', '~17,100 kg', '1,600 kg', '~17,100 kg', '1,500 kg', '~17,100 kg', '~17,100 kg', '~17,100 kg', '~16,300 kg', '~17,100 kg', '~16,300 kg', '~17,100 kg', 'U', '~17,100 kg', '~17,100 kg', '~17,100 kg', '2,350 kg', '~17,100 kg', '~16,300 kg', '~16,700 kg', '~16,300 kg', '~16,300 kg', '5,000 kg', '~16,700 kg', '~16,300 kg', '~17,100 kg', 'U', '~16,300 kg'], 'Orbit': ['SSO', 'Polar', 'MEO', 'LEO', 'LEO', 'LEO', 'LEO', 'GTO', 'LEO', 'LEO', 'GTO', 'LEO', 'LEO', 'LEO', 'LEO', 'LEO', 'LEO', 'GTO', 'LEO', 'LEO', 'LEO', 'GTO', 'SSO', 'LEO', 'SSO', 'MEO', 'LEO', 'LEO', 'LEO', 'LEO', 'Polar', 'LEO', 'GTO', 'LEO', 'LEO', 'LEO', 'LEO', 'SSO', 'GTO', 'LEO', 'LEO', None, 'LEO', 'LEO', 'LEO', 'LEO', 'LEO', 'LEO', 'GTO', 'LEO', 'LEO', 'LEO', 'LEO', 'LEO', 'LEO', 'LEO', 'LEO', 'LEO', 'LEO', 'LEO', 'LEO', 'LEO', 'LEO', 'LEO', 'LEO', 'LEO', 'LEO', 'LEO', 'LEO', 'LEO', 'LEO', 'LEO', 'LEO', 'LEO', 'LEO', 'LEO', 'LEO', 'SSO', 'MEO', 'LEO', 'LEO', 'LEO', 'LEO', 'SSO', 'LEO', 'LEO', 'LEO', 'LEO', 'LEO', 'SSO', 'LEO', 'LEO', 'GTO', 'LEO', 'LEO', 'LEO', 'LEO', 'LEO', 'LEO', 'LEO', 'LEO', 'SSO', 'LEO', 'LEO', 'TLI', 'LEO', 'GTO', 'LEO', 'LEO', 'LEO', 'LEO', 'SSO', 'LEO', 'LEO', 'LEO', 'LEO', 'LEO', 'LEO', 'LEO', 'LEO', 'GTO', 'LEO', 'LEO', 'LEO', 'LEO', 'LEO', 'LEO', 'SSO', 'LEO', 'LEO', 'LEO', 'LEO', 'MEO', 'LEO', 'SSO', 'LEO', 'LEO', 'LEO', 'LEO', 'LEO', 'LEO', 'LEO', 'LEO', 'LEO', 'LEO', 'LEO', 'SSO', 'LEO', 'LEO', 'LEO', 'LEO', 'LEO', 'GTO', 'LEO', 'LEO', 'LEO', 'LEO', 'LEO'], 'Customer': [None, 'OneWeb', 'USSF', 'SpaceX', 'SpaceX', 'SpaceX', 'SpaceX', 'Hispasat', 'SpaceX', 'SpaceX', 'Inmarsat', 'SpaceX', 'NASA', 'SpaceX', 'OneWeb', 'NASA', 'SpaceX', 'SES', 'SpaceX', 'SpaceX', 'SDA', 'Intelsat', None, 'SpaceX', 'SpaceX', 'SES', 'SpaceX', 'SpaceX', 'SpaceX', 'SpaceX', 'Iridium', 'Axiom Space', 'Arabsat', 'SpaceX', 'SpaceX', 'NASA', 'SpaceX', None, 'PT Pasifik Satelit Nusantara', 'SpaceX', 'SpaceX', 'ESA', 'SpaceX', 'SpaceX', 'SpaceX', 'SpaceX', 'SpaceX', 'SpaceX', 'Intelsat', 'SpaceX', 'SpaceX', 'SpaceX', 'SpaceX', 'SpaceX', 'NASA', 'SpaceX', 'SpaceX', 'SDA', 'SpaceX', 'SpaceX', 'SpaceX', 'SpaceX', 'SpaceX', 'SpaceX', 'SpaceX', 'SpaceX', 'SpaceX', 'SpaceX', 'SpaceX', 'SpaceX', 'SpaceX', 'SpaceX', 'SpaceX', 'SpaceX', 'SpaceX', 'SpaceX', 'NASA', None, 'SES', 'SpaceX', 'SpaceX', 'SpaceX', 'SpaceX', 'Republic of Korea Armed Forces', 'SpaceX', 'SpaceX', 'SpaceX', 'SpaceX', 'SpaceX', 'German Intelligence Service', 'SpaceX', 'SpaceX', 'Ovzon', 'SpaceX', 'SpaceX', 'SpaceX', 'Axiom Space', 'SpaceX', 'SpaceX', 'SpaceX', 'Northrop Grumman', 'NASA', 'SpaceX', 'USSF', 'NASA', 'SpaceX', 'Telkom Indonesia', 'SpaceX', 'SpaceX', 'SpaceX', 'NASA', None, 'SpaceX', 'SpaceX', 'SpaceX', 'SpaceX', 'SpaceX', 'NASA', 'SpaceX', 'SpaceX', 'Eutelsat', 'SpaceX', 'SpaceX', 'SpaceX', 'SpaceX', None, 'SpaceX', 'USSF', 'SpaceX', 'SpaceX', 'SpaceX', 'SpaceX', 'ESA', 'SpaceX', 'Maxar Technologies', 'SpaceX', 'SpaceX', 'SpaceX', 'SpaceX', 'SpaceX', 'SpaceX', 'SpaceX', 'Northrop Grumman', 'SpaceX', 'SpaceX', 'SpaceX', 'ESA', 'SpaceX', 'SpaceX', 'SpaceX', 'SpaceX', 'SpaceX', 'SES', 'SpaceX', 'SpaceX', 'SpaceX', 'NRO', 'SpaceX'], 'Launch outcome': ['Success\\n', 'Success\\n', 'Success\\n', 'Success\\n', 'Success\\n', 'Success\\n', 'Success\\n', 'Success\\n', 'Success\\n', 'Success\\n', 'Success\\n', 'Success\\n', 'Success\\n', 'Success\\n', 'Success\\n', 'Success\\n', 'Success\\n', 'Success\\n', 'Success\\n', 'Success\\n', 'Success\\n', 'Success\\n', 'Success\\n', 'Success\\n', 'Success\\n', 'Success\\n', 'Success\\n', 'Success\\n', 'Success\\n', 'Success\\n', 'Success\\n', 'Success\\n', 'Success\\n', 'Success\\n', 'Success\\n', 'Success\\n', 'Success\\n', 'Success\\n', 'Success\\n', 'Success\\n', 'Success\\n', 'Success\\n', 'Success\\n', 'Success\\n', 'Success\\n', 'Success\\n', 'Success\\n', 'Success\\n', 'Success\\n', 'Success\\n', 'Success\\n', 'Success\\n', 'Success\\n', 'Success\\n', 'Success\\n', 'Success\\n', 'Success\\n', 'Success\\n', 'Success\\n', 'Success\\n', 'Success\\n', 'Success\\n', 'Success\\n', 'Success\\n', 'Success\\n', 'Success\\n', 'Success\\n', 'Success\\n', 'Success\\n', 'Success\\n', 'Success\\n', 'Success\\n', 'Success\\n', 'Success\\n', 'Success\\n', 'Success\\n', 'Success\\n', 'Success\\n', 'Success\\n', 'Success\\n', 'Success\\n', 'Success\\n', 'Success\\n', 'Success\\n', 'Success\\n', 'Success\\n', 'Success\\n', 'Success\\n', 'Success\\n', 'Success\\n', 'Success\\n', 'Success\\n', 'Success\\n', 'Success\\n', 'Success\\n', 'Success\\n', 'Success\\n', 'Success\\n', 'Success\\n', 'Success\\n', 'Success\\n', 'Success\\n', 'Success\\n', 'Success\\n', 'Success\\n', 'Success\\n', 'Success\\n', 'Success\\n', 'Success\\n', 'Success\\n', 'Success\\n', 'Success\\n', 'Success\\n', 'Success\\n', 'Success\\n', 'Success\\n', 'Success\\n', 'Success\\n', 'Success\\n', 'Success\\n', 'Success\\n', 'Success\\n', 'Success\\n', 'Success\\n', 'Success\\n', 'Success\\n', 'Success\\n', 'Success\\n', 'Success\\n', 'Success\\n', 'Success\\n', 'Success\\n', 'Success\\n', 'Success\\n', 'Success\\n', 'Success\\n', 'Success\\n', 'Success\\n', 'Success\\n', 'Success\\n', 'Success\\n', 'Success\\n', 'Success\\n', 'Success\\n', 'Success\\n', 'Success\\n', 'Success\\n', 'Success\\n', 'Success\\n', 'Success\\n', 'Success\\n', 'Success\\n', 'Success\\n', 'Success\\n', 'Success\\n', 'Success\\n', 'Success\\n', 'Success\\n'], 'Booster landing': ['Success', 'Success', 'Success', 'Success', 'Success', 'Success', 'Success', 'Success', 'Success', 'Success', 'Success', 'Success', 'Success', 'Success', 'Success', 'Success', 'Success', 'Success', 'Success', 'Success', 'Success', 'Success', 'Success', 'Success', 'Success', 'Success', 'Success', 'Success', 'Success', 'Success', 'Success', 'Success', 'Success', 'Success', 'Success', 'Success', 'Success', 'Success', 'Success', 'Success', 'Success', 'Success', 'Success', 'Success', 'Success', 'Success', 'Success', 'Success', 'Success', 'Success', 'Success', 'Success', 'Success', 'Success', 'Success', 'Success', 'Success', 'Success', 'Success', 'Success', 'Success', 'Success', 'Success', 'Success', 'Success', 'Success', 'Success', 'Success', 'Success', 'Success', 'Success', 'Success', 'Success', 'Success', 'Success', 'Success', 'Success', 'Success', 'Success', 'Success', 'Success', 'Success', 'Success', 'Success', 'Success', 'Success', 'Success', 'Success', 'Partial failure', 'Success', 'Success', 'Success', 'Success', 'Success', 'Success', 'Success', 'Success', 'Success', 'Success', 'Success', 'Success', 'Success', 'Success', 'Success', 'Success', 'Success', 'Success', 'Success', 'Success', 'Success', 'Success', 'Success', 'Success', 'Success', 'Success', 'Success', 'Success', 'Success', 'Success', 'Success', 'Success', 'Success', 'Success', 'Success', 'Success', 'Success', 'Success', 'Success', 'Success', 'Success', 'Success', 'Success', 'No attempt\\n', 'Success', 'Success', 'Success', 'Success', 'Success', 'Success', 'Success', 'Success', 'Success', 'Success', 'Success', 'Success', 'Success', 'Success', 'Success', 'Success', 'Success', 'Success', 'Success', 'Success', 'Success', 'Success', 'Success', 'Success', 'Success']}\n"
     ]
    }
   ],
   "source": [
    "import requests\n",
    "from bs4 import BeautifulSoup\n",
    "\n",
    "# Send the HTTP request and get the HTML response\n",
    "url = \"https://en.wikipedia.org/wiki/List_of_Falcon_9_and_Falcon_Heavy_launches\"\n",
    "response = requests.get(url)\n",
    "\n",
    "# Parse the HTML content using BeautifulSoup\n",
    "soup = BeautifulSoup(response.text, 'html.parser')\n",
    "\n",
    "# Define functions (date_time, booster_version, get_mass, landing_status) here if not already defined\n",
    "\n",
    "# Initialize launch_dict with all necessary keys\n",
    "launch_dict = {\n",
    "    'Flight No.': [], \n",
    "    'Date': [], \n",
    "    'Time': [], \n",
    "    'Version Booster': [], \n",
    "    'Launch site': [], \n",
    "    'Payload': [], \n",
    "    'Payload mass': [], \n",
    "    'Orbit': [], \n",
    "    'Customer': [], \n",
    "    'Launch outcome': [], \n",
    "    'Booster landing': []\n",
    "}\n",
    "\n",
    "extracted_row = 0\n",
    "\n",
    "# Iterate over each table\n",
    "for table_number, table in enumerate(soup.find_all('table', \"wikitable plainrowheaders collapsible\")):\n",
    "    for rows in table.find_all(\"tr\"):\n",
    "        if rows.th:\n",
    "            if rows.th.string:\n",
    "                flight_number = rows.th.string.strip()\n",
    "                flag = flight_number.isdigit()\n",
    "        else:\n",
    "            flag = False\n",
    "        row = rows.find_all('td')\n",
    "        if flag:\n",
    "            extracted_row += 1\n",
    "            # Flight Number value\n",
    "            launch_dict['Flight No.'].append(flight_number)\n",
    "\n",
    "            # Date and Time values\n",
    "            datatimelist = date_time(row[0])\n",
    "            date = datatimelist[0].strip(',')\n",
    "            time = datatimelist[1]\n",
    "            launch_dict['Date'].append(date)\n",
    "            launch_dict['Time'].append(time)\n",
    "\n",
    "            # Booster version\n",
    "            bv = booster_version(row[1])\n",
    "            if not(bv):\n",
    "                bv = row[1].a.string\n",
    "            launch_dict['Version Booster'].append(bv)\n",
    "\n",
    "            # Launch Site\n",
    "            launch_site = row[2].a.string if row[2].a else None\n",
    "            launch_dict['Launch site'].append(launch_site)\n",
    "\n",
    "            # Payload\n",
    "            payload = row[3].a.string if row[3].a else None\n",
    "            launch_dict['Payload'].append(payload)\n",
    "\n",
    "            # Payload Mass\n",
    "            payload_mass = get_mass(row[4])\n",
    "            launch_dict['Payload mass'].append(payload_mass)\n",
    "\n",
    "            # Orbit\n",
    "            orbit = row[5].a.string if row[5].a else None\n",
    "            launch_dict['Orbit'].append(orbit)\n",
    "\n",
    "            # Customer\n",
    "            customer = row[6].a.string if row[6].a else None\n",
    "            launch_dict['Customer'].append(customer)\n",
    "\n",
    "            # Launch outcome\n",
    "            launch_outcome = list(row[7].strings)[0] if row[7].strings else None\n",
    "            launch_dict['Launch outcome'].append(launch_outcome)\n",
    "\n",
    "            # Booster landing\n",
    "            booster_landing = landing_status(row[8])\n",
    "            launch_dict['Booster landing'].append(booster_landing)\n",
    "\n",
    "# Print launch_dict to verify the values\n",
    "print(launch_dict)"
   ]
  },
  {
   "cell_type": "markdown",
   "metadata": {},
   "source": [
    "After you have fill in the parsed launch record values into `launch_dict`, you can create a dataframe from it.\n"
   ]
  },
  {
   "cell_type": "code",
   "execution_count": 19,
   "metadata": {
    "tags": []
   },
   "outputs": [],
   "source": [
    "df= pd.DataFrame({ key:pd.Series(value) for key, value in launch_dict.items() })"
   ]
  },
  {
   "cell_type": "code",
   "execution_count": 20,
   "metadata": {
    "tags": []
   },
   "outputs": [
    {
     "name": "stdout",
     "output_type": "stream",
     "text": [
      "Data exported to spacex_web_scraped.csv\n"
     ]
    }
   ],
   "source": [
    "import pandas as pd\n",
    "\n",
    "# Assuming launch_dict is already filled with data\n",
    "\n",
    "# Convert the dictionary to a DataFrame\n",
    "df = pd.DataFrame(launch_dict)\n",
    "\n",
    "# Export the DataFrame to a CSV file\n",
    "df.to_csv('spacex_web_scraped.csv', index=False)\n",
    "\n",
    "print(\"Data exported to spacex_web_scraped.csv\")"
   ]
  },
  {
   "cell_type": "markdown",
   "metadata": {},
   "source": [
    "We can now export it to a <b>CSV</b> for the next section, but to make the answers consistent and in case you have difficulties finishing this lab. \n",
    "\n",
    "Following labs will be using a provided dataset to make each lab independent. \n"
   ]
  },
  {
   "cell_type": "markdown",
   "metadata": {},
   "source": [
    "<code>df.to_csv('spacex_web_scraped.csv', index=False)</code>\n"
   ]
  },
  {
   "cell_type": "markdown",
   "metadata": {},
   "source": [
    "## Authors\n"
   ]
  },
  {
   "cell_type": "markdown",
   "metadata": {},
   "source": [
    "<a href=\"https://www.linkedin.com/in/yan-luo-96288783/\">Yan Luo</a>\n"
   ]
  },
  {
   "cell_type": "markdown",
   "metadata": {},
   "source": [
    "<a href=\"https://www.linkedin.com/in/nayefaboutayoun/\">Nayef Abou Tayoun</a>\n"
   ]
  },
  {
   "cell_type": "markdown",
   "metadata": {},
   "source": [
    "## Change Log\n"
   ]
  },
  {
   "cell_type": "markdown",
   "metadata": {},
   "source": [
    "| Date (YYYY-MM-DD) | Version | Changed By | Change Description      |\n",
    "| ----------------- | ------- | ---------- | ----------------------- |\n",
    "| 2021-06-09        | 1.0     | Yan Luo    | Tasks updates           |\n",
    "| 2020-11-10        | 1.0     | Nayef      | Created the initial version |\n"
   ]
  },
  {
   "cell_type": "markdown",
   "metadata": {},
   "source": [
    "Copyright © 2021 IBM Corporation. All rights reserved.\n"
   ]
  }
 ],
 "metadata": {
  "kernelspec": {
   "display_name": "Python",
   "language": "python",
   "name": "conda-env-python-py"
  },
  "language_info": {
   "codemirror_mode": {
    "name": "ipython",
    "version": 3
   },
   "file_extension": ".py",
   "mimetype": "text/x-python",
   "name": "python",
   "nbconvert_exporter": "python",
   "pygments_lexer": "ipython3",
   "version": "3.7.12"
  }
 },
 "nbformat": 4,
 "nbformat_minor": 4
}
